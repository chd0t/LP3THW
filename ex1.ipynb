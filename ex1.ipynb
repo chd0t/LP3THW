{
 "cells": [
  {
   "cell_type": "markdown",
   "id": "6c6e8264-d716-4c39-8e64-52d4ff24ccfb",
   "metadata": {},
   "source": [
    "# _**Learn Python3 the ~~Hard~~ Way By Zed Shaw**_\n",
    "#### _\"The hard way is really easy\"_"
   ]
  },
  {
   "cell_type": "markdown",
   "id": "e7d26430-b5fa-42ca-85d8-762b86f01fa7",
   "metadata": {},
   "source": [
    "_**Example 1:**_ _First program_"
   ]
  },
  {
   "cell_type": "code",
   "execution_count": 16,
   "id": "eeedae48-7d16-4ad4-85a2-a235baf1b89e",
   "metadata": {},
   "outputs": [
    {
     "name": "stdout",
     "output_type": "stream",
     "text": [
      "Hello, world!\n",
      "Hello again!\n",
      "I love typing this!\n",
      "Hurrah! I'm typing!\n",
      "This is fun!\n",
      "Python3 as 'magic'!\n",
      "I would say it's cool\n"
     ]
    }
   ],
   "source": [
    "print(\"Hello, world!\")\n",
    "print(\"Hello again!\")\n",
    "print(\"I love typing this!\")\n",
    "print(\"Hurrah! I'm typing!\")\n",
    "print('This is fun!')\n",
    "print(\"Python3 as 'magic'!\")\n",
    "print(\"I would say it's cool\")"
   ]
  },
  {
   "cell_type": "markdown",
   "id": "73a14572-8f0a-4042-97d9-cb45f3d06c8b",
   "metadata": {},
   "source": [
    "_**Example 2**_: _Comments and Symbols **#**_"
   ]
  },
  {
   "cell_type": "code",
   "execution_count": 19,
   "id": "bd2b09d7-5746-4dfc-8617-b79ed508ffdd",
   "metadata": {},
   "outputs": [
    {
     "name": "stdout",
     "output_type": "stream",
     "text": [
      "This is my program\n",
      "The code works.\n"
     ]
    }
   ],
   "source": [
    "#Comments allow you understand the purpose of the code\n",
    "#Lines after # are ignored by python\n",
    "\n",
    "print(\"This is my program\") #and this comment is ignored\n",
    "\n",
    "# With the help of comments, you can \"turn off\" parts of the code:\n",
    "\n",
    "# print(\"Code doesn't work.\")\n",
    "\n",
    "print(\"The code works!\")"
   ]
  },
  {
   "cell_type": "markdown",
   "id": "f4b0232b-e9c6-4c93-ac01-d05b683465e5",
   "metadata": {},
   "source": [
    "_**Example3**_: _Numbers and Math_"
   ]
  },
  {
   "cell_type": "code",
   "execution_count": 44,
   "id": "e126ac08-d09d-481f-a7b5-7a1c1fef1d71",
   "metadata": {},
   "outputs": [
    {
     "name": "stdout",
     "output_type": "stream",
     "text": [
      "I'll count my livestock:\n",
      "Chicken 30.0\n",
      "Roosters 97\n",
      "And now I'll count all eggs:\n",
      "6.75\n",
      "Is it true, that 3 + 2 < 5 - 7?\n",
      "False\n",
      "What is 3 + 2? 5\n",
      "What is 5 -7? -2\n",
      "Oops, I seem to be confused...Why False\n",
      "I'll count again\n",
      "Is it bigger? True\n",
      "Is greater then or equal to? True\n",
      "Is less then or equal to? False\n",
      "After converting float to integer :  3\n",
      "type :  <class 'int'>\n",
      "After converting string to integer :  323\n",
      "type :  <class 'int'>\n"
     ]
    }
   ],
   "source": [
    "print(\"I'll count my livestock:\")\n",
    "print(\"Chicken\", 25 + 30 / 6)\n",
    "print(\"Roosters\", 100 - 25 * 3 % 4)\n",
    "print(\"And now I'll count all eggs:\")\n",
    "print(3 + 2 + 1 - 5 + 4 % 2 - 1 / 4 + 6)\n",
    "print(\"Is it true, that 3 + 2 < 5 - 7?\")\n",
    "print(3 + 2 < 5 -7)\n",
    "print(\"What is 3 + 2?\", 3 + 2)\n",
    "print(\"What is 5 -7?\", 5 -7)\n",
    "print(\"Oops, I seem to be confused...Why False\")\n",
    "print(\"I'll count again\")\n",
    "print(\"Is it bigger?\", 5 > -2)\n",
    "print(\"Is greater then or equal to?\", 5 >= -2)\n",
    "print(\"Is less then or equal to?\",5 <= -2)\n",
    "\n",
    "\n",
    "# lynks >> https://www.geeksforgeeks.org/python-numbers-type-conversion-and-mathematics/\n",
    "# Python code to demonstrate Type conversion \n",
    "var1 = 3.14\n",
    "  \n",
    "# type conversion of float to int .\n",
    "var2 = int(var1) \n",
    "  \n",
    "print (\"After converting float to integer : \", var2) \n",
    "print (\"type : \",type(var2))\n",
    "  \n",
    "# type conversion of string to integer\n",
    "var3 = \"323\"\n",
    "var4 = int(var3) \n",
    "  \n",
    "print (\"After converting string to integer : \", var4) \n",
    "print (\"type : \",type(var4))"
   ]
  },
  {
   "cell_type": "markdown",
   "id": "fc646135-6638-468a-bfe3-afe55cc75769",
   "metadata": {},
   "source": [
    "_**Example4**_: _Variables and names_"
   ]
  },
  {
   "cell_type": "code",
   "execution_count": 49,
   "id": "0d5e2e08-9489-43a8-acfd-67ccac87a5d7",
   "metadata": {},
   "outputs": [
    {
     "name": "stdout",
     "output_type": "stream",
     "text": [
      "In stock 100 cars\n",
      "M only 30 drivers went to work\n",
      "It turns out that 70 cars are empty\n",
      "We can transport today 120.0 person\n",
      "Today you need to take 90 person\n",
      "There wiil be approximately 3.0 person in each car\n"
     ]
    }
   ],
   "source": [
    "cars = 100\n",
    "space_in_a_car = 4.0\n",
    "drivers = 30\n",
    "passengers = 90\n",
    "cars_not_driven = cars - drivers\n",
    "cars_driven = drivers\n",
    "carpool_capacity = cars_driven * space_in_a_car\n",
    "average_passengers_per_car = passengers / cars_driven\n",
    "\n",
    "print(\"In stock\", cars, \"cars\")\n",
    "print(\"M only\", drivers, \"drivers went to work\")\n",
    "print(\"It turns out that\", cars_not_driven, \"cars are empty\")\n",
    "print(\"We can transport today\", carpool_capacity, \"person\")\n",
    "print(\"Today you need to take\", passengers, \"person\")\n",
    "print(\"There wiil be approximately\", average_passengers_per_car, \"person in each car\")\n"
   ]
  },
  {
   "cell_type": "markdown",
   "id": "6937aafa-6e33-46ad-9ecf-544c107242a7",
   "metadata": {},
   "source": [
    "_**Example5**_:_More about variables and output_"
   ]
  },
  {
   "cell_type": "code",
   "execution_count": 62,
   "id": "5b633af4-4e33-47fa-b42a-2fda03475f71",
   "metadata": {},
   "outputs": [
    {
     "name": "stdout",
     "output_type": "stream",
     "text": [
      "Let's talk about a person Zed Shaw\n",
      "His height is 188cm\n",
      "His weight is 80kg\n",
      "Actually,it's not mutch\n",
      "Him blue eyes and chestnut hair\n",
      "His tees are usually white, although he likes to drink coffe\n",
      "If I add 35 and 188 and 80, I get 303\n"
     ]
    }
   ],
   "source": [
    "my_name = 'Zed Shaw'\n",
    "my_age = 35 #this is true\n",
    "my_height = 188 #cm\n",
    "my_weight = 80 #kg\n",
    "my_eyes = 'blue'\n",
    "my_tees = 'white'\n",
    "my_hair = 'chestnut'\n",
    "\n",
    "print(f\"Let's talk about a person {my_name}\")\n",
    "print(f\"His height is {my_height}cm\")\n",
    "print(f\"His weight is {my_weight}kg\")\n",
    "print(\"Actually,it's not mutch\")\n",
    "print(f\"Him {my_eyes} eyes and {my_hair} hair\")\n",
    "print(f\"His tees are usually {my_tees}, although he likes to drink coffe\")\n",
    "\n",
    "total = my_age + my_height + my_weight\n",
    "print(f\"If I add {my_age} and {my_height} and {my_weight}, I get {total}\")"
   ]
  },
  {
   "cell_type": "markdown",
   "id": "91dd2e04-965b-410e-9fbd-e26f27e913f7",
   "metadata": {},
   "source": [
    "_**Example6**_: _Lines and text_"
   ]
  },
  {
   "cell_type": "code",
   "execution_count": 71,
   "id": "778ba4cc-4ed4-47d7-ba0a-b6888564e6c5",
   "metadata": {},
   "outputs": [
    {
     "name": "stdout",
     "output_type": "stream",
     "text": [
      "There are 10 types of people\n",
      "Those who accept Python, and those who - does not understand\n",
      "I said There are 10 types of people\n",
      "And also i said Those who accept Python, and those who - does not understand\n",
      "Isn't that funny?! ()\n",
      "This is the part of the string on the left...and this is on the right\n"
     ]
    }
   ],
   "source": [
    "types_of_people = 10\n",
    "\n",
    "x = f\"There are {types_of_people} types of people\"\n",
    "\n",
    "binary = \"Python\"\n",
    "do_not = \"does not understand\"\n",
    "\n",
    "y = f\"Those who accept {binary}, and those who - {do_not}\"\n",
    "\n",
    "print(x)\n",
    "print(y)\n",
    "\n",
    "print(f\"I said {x}\")\n",
    "print(f\"And also i said {y}\")\n",
    "\n",
    "hilarious = False\n",
    "joke_evaluation = \"Isn't that funny?! ()\"\n",
    "print(joke_evaluation.format(hilarious))\n",
    "\n",
    "w = \"This is the part of the string on the left...\"\n",
    "e = \"and this is on the right\"\n",
    "print(w + e)"
   ]
  },
  {
   "cell_type": "markdown",
   "id": "a896b197-6bdb-4539-a9d2-e02baf41c85f",
   "metadata": {},
   "source": [
    "_**Example7**_: _More about withdrawal_"
   ]
  },
  {
   "cell_type": "code",
   "execution_count": 80,
   "id": "08d7c035-c4bb-4354-b822-a29d35475947",
   "metadata": {},
   "outputs": [
    {
     "name": "stdout",
     "output_type": "stream",
     "text": [
      "Mary had a little lamb.\n",
      "His fur was as white as snow.\n",
      "And ewerywere Mary went,\n",
      "The litle lamb always followed her.\n",
      "..........\n",
      "Baddy Gay\n"
     ]
    }
   ],
   "source": [
    "print(\"Mary had a little lamb.\")\n",
    "print(\"His fur was as white as {}.\".format('snow'))\n",
    "print(\"And ewerywere Mary went,\")\n",
    "print(\"The litle lamb always followed her.\")\n",
    "print(\".\" * 10) #what could this mean?\n",
    "end1 = \"B\"\n",
    "end2 = \"a\"\n",
    "end3 = \"d\"\n",
    "end4 = \"d\"\n",
    "end5 = \"y\"\n",
    "end6 = \"G\"\n",
    "end7 = \"a\"\n",
    "end8 = \"y\"\n",
    "\n",
    "#Note the comma at the and of the line.Take her away.What happenedQ!?\n",
    "print(end1 + end2 + end3 + end4 + end5, end =' ')\n",
    "print(end6 + end7 + end8)"
   ]
  },
  {
   "cell_type": "markdown",
   "id": "ef9a6a6c-a29c-473b-a42a-10bc9fd8935a",
   "metadata": {},
   "source": [
    "_**Example8**_: _Conclusion, conclusion_"
   ]
  },
  {
   "cell_type": "code",
   "execution_count": 87,
   "id": "aadc9928-be55-449c-a117-3e0b111568f2",
   "metadata": {},
   "outputs": [
    {
     "name": "stdout",
     "output_type": "stream",
     "text": [
      "1 2 3 4\n",
      "one two three for\n",
      "True False False True\n",
      "{} {} {} {} {} {} {} {} {} {} {} {} {} {} {} {}\n",
      "They sleep in the pony stable snow began to fall only boy Gonny doesn't go to sleep!\n"
     ]
    }
   ],
   "source": [
    "formatter = \"{} {} {} {}\"\n",
    "\n",
    "print(formatter.format(1, 2, 3, 4))\n",
    "print(formatter.format(\"one\", \"two\", \"three\", \"for\"))\n",
    "print(formatter.format(True, False, False, True))\n",
    "print(formatter.format(formatter, formatter, formatter, formatter))\n",
    "print(formatter.format(\n",
    "       \"They sleep in the pony stable\",\n",
    "       \"snow began to fall\",\n",
    "       \"only boy Gonny\",\n",
    "       \"doesn't go to sleep!\"\n",
    "))"
   ]
  },
  {
   "cell_type": "markdown",
   "id": "9008dbaa-34c9-43ac-b302-f85555e8f9af",
   "metadata": {},
   "source": [
    "_**Example9**_: _Conclusion, conclusion, conclusion_"
   ]
  },
  {
   "cell_type": "code",
   "execution_count": 94,
   "id": "a7a43133-3fac-4c8b-bd4e-e44197143292",
   "metadata": {},
   "outputs": [
    {
     "name": "stdout",
     "output_type": "stream",
     "text": [
      "These are the day of the week: Mo Tu We Th Fr Sa Su\n",
      "And these are the month: \n",
      "Jan\n",
      "Feb\n",
      "Mar\n",
      "Apr\n",
      "May\n",
      "Jun\n",
      "Jul\n",
      "Aug\n",
      "\n",
      "      what is going on here!?\n",
      "      Three double quotes are used.\n",
      "      We can type as much text as we want.\n",
      "      Even 4 lines, 5 or 6. \n",
      "\n"
     ]
    }
   ],
   "source": [
    "#Somewhat unusual code,type it exactly\n",
    "\n",
    "days = \"Mo Tu We Th Fr Sa Su\"\n",
    "month = \"\\nJan\\nFeb\\nMar\\nApr\\nMay\\nJun\\nJul\\nAug\"\n",
    "\n",
    "print(\"These are the day of the week:\", days)\n",
    "print(\"And these are the month:\", month)\n",
    "\n",
    "print(\"\"\"\n",
    "      what is going on here!?\n",
    "      Three double quotes are used.\n",
    "      We can type as much text as we want.\n",
    "      Even 4 lines, 5 or 6. \n",
    "\"\"\"\n",
    ")"
   ]
  },
  {
   "cell_type": "markdown",
   "id": "ed369bff-db57-406c-846b-182779bf5e88",
   "metadata": {},
   "source": [
    "_**Example10**_: _Managers sequences_"
   ]
  },
  {
   "cell_type": "code",
   "execution_count": 99,
   "id": "d2a5ec83-4ab6-456a-98ac-a432e41019db",
   "metadata": {},
   "outputs": [
    {
     "name": "stdout",
     "output_type": "stream",
     "text": [
      "\tMy name is d_Artangan\n",
      "This line\n",
      "is split is two\n",
      "I am \\ - \\ musketeer\n",
      "\n",
      "Tips:\n",
      "\t* Earl of Gascony\n",
      "\t* Linked to Milady\n",
      "\t* Baron\n",
      "\t* Orden General\n",
      "\n"
     ]
    }
   ],
   "source": [
    "d_artagnan = \"\\tMy name is d_Artangan\"\n",
    "athos = \"This line\\nis split is two\"\n",
    "porthos = \"I am \\\\ - \\\\ musketeer\"\n",
    "\n",
    "aramis = \"\"\"\n",
    "Tips:\n",
    "\\t* Earl of Gascony\n",
    "\\t* Linked to Milady\n",
    "\\t* Baron\\n\\t* Orden General\n",
    "\"\"\"\n",
    "\n",
    "print(d_artagnan)\n",
    "print(athos)\n",
    "print(porthos)\n",
    "print(aramis)"
   ]
  },
  {
   "cell_type": "markdown",
   "id": "200afe9b-976c-4e44-8764-d65fa72eed41",
   "metadata": {},
   "source": [
    "_**List of Escape Sequence Available in Python**_\n",
    "\n",
    "**\\’**\tSingle quote\n",
    "\n",
    "**\\\\’**\tDouble quote\n",
    "\n",
    "**\\\\**\tBackslash\n",
    "\n",
    "**\\n**\tNewline\n",
    "\n",
    "**\\r**\tCarriage Return\n",
    "\n",
    "**\\t**\tHorizontal Tab\n",
    "\n",
    "**\\b**\tBackspace\n",
    "\n",
    "**\\f**\tFormfeed\n",
    "\n",
    "**\\v**\tVertical Tab\n",
    "\n",
    "**\\0**\tNull Character\n",
    "\n",
    "**\\N{Name}**\tUnicode character Database named lookup\n",
    "\n",
    "**\\uxxxxxxxx**\tUnicode character with a 16-bit hex value\n",
    "\n",
    "**\\Uxxxxxxxx**\tUnicode character with a 32-bit hex value\n",
    "\n",
    "**\\000**\tCharacter with octal value ooo\n",
    "\n",
    "**\\xhh**\tCharacter with hex value hh"
   ]
  },
  {
   "cell_type": "code",
   "execution_count": null,
   "id": "f0d16b07-95b4-404f-874c-03399fc31338",
   "metadata": {},
   "outputs": [],
   "source": []
  }
 ],
 "metadata": {
  "kernelspec": {
   "display_name": "Python 3 (ipykernel)",
   "language": "python",
   "name": "python3"
  },
  "language_info": {
   "codemirror_mode": {
    "name": "ipython",
    "version": 3
   },
   "file_extension": ".py",
   "mimetype": "text/x-python",
   "name": "python",
   "nbconvert_exporter": "python",
   "pygments_lexer": "ipython3",
   "version": "3.9.13"
  }
 },
 "nbformat": 4,
 "nbformat_minor": 5
}
