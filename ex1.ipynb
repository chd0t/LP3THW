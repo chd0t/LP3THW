{
 "cells": [
  {
   "cell_type": "code",
   "execution_count": 3,
   "id": "9af3078b-3690-4d48-a097-906e983d6eb6",
   "metadata": {},
   "outputs": [
    {
     "name": "stdout",
     "output_type": "stream",
     "text": [
      "Hello, world!\n",
      "Hello again!\n",
      "I love typing this!\n",
      "Hurrah! I'm typing!\n",
      "This is fun!\n",
      "Python3 as 'magic'!\n",
      "I would say it's cool\n"
     ]
    }
   ],
   "source": [
    "print(\"Hello, world!\")\n",
    "print(\"Hello again!\")\n",
    "print(\"I love typing this!\")\n",
    "print(\"Hurrah! I'm typing!\")\n",
    "print('This is fun!')\n",
    "print(\"Python3 as 'magic'!\")\n",
    "print(\"I would say it's cool\")"
   ]
  }
 ],
 "metadata": {
  "kernelspec": {
   "display_name": "Python 3 (ipykernel)",
   "language": "python",
   "name": "python3"
  },
  "language_info": {
   "codemirror_mode": {
    "name": "ipython",
    "version": 3
   },
   "file_extension": ".py",
   "mimetype": "text/x-python",
   "name": "python",
   "nbconvert_exporter": "python",
   "pygments_lexer": "ipython3",
   "version": "3.9.13"
  }
 },
 "nbformat": 4,
 "nbformat_minor": 5
}
