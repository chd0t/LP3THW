{
 "cells": [
  {
   "cell_type": "markdown",
   "id": "9af10037-b346-41c3-915d-56f7e7948cc2",
   "metadata": {},
   "source": [
    "## <p style=\"font-family: Arial; font-size:0.8em;color:lime;\"> Learn Python3 the ~~Hard~~ Way By Zed Shaw</p>"
   ]
  },
  {
   "cell_type": "markdown",
   "id": "0b06c9cb-cdac-4fe0-b668-ffa0fd93c09e",
   "metadata": {},
   "source": [
    "_**<p style=\"font-family: Arial; font-size:1.1em;color:lime;\"> Example 1: First program </p>**_"
   ]
  },
  {
   "cell_type": "code",
   "execution_count": 1,
   "id": "5868d2f9-f113-4cf2-8f6a-0a699b2c41c4",
   "metadata": {},
   "outputs": [
    {
     "name": "stdout",
     "output_type": "stream",
     "text": [
      "Hello, world!\n",
      "Hello again!\n",
      "I love typing this!\n",
      "Hurrah! I'm typing!\n",
      "This is fun!\n",
      "Python3 as 'magic'!\n",
      "I would say it's cool\n"
     ]
    }
   ],
   "source": [
    "print(\"Hello, world!\")\n",
    "print(\"Hello again!\")\n",
    "print(\"I love typing this!\")\n",
    "print(\"Hurrah! I'm typing!\")\n",
    "print('This is fun!')\n",
    "print(\"Python3 as 'magic'!\")\n",
    "print(\"I would say it's cool\")"
   ]
  },
  {
   "cell_type": "markdown",
   "id": "fce440b1-0f3e-4b7a-a7c0-f8db13dfe911",
   "metadata": {},
   "source": [
    "_**<p style=\"font-family: Arial; font-size:1.1em;color:lime;\"> Example 2: Comments and Symbols</p>**_"
   ]
  },
  {
   "cell_type": "code",
   "execution_count": 2,
   "id": "f7d57cce-686d-4f9c-8c72-de2b0da65d67",
   "metadata": {},
   "outputs": [
    {
     "name": "stdout",
     "output_type": "stream",
     "text": [
      "This is my program\n",
      "The code works!\n"
     ]
    }
   ],
   "source": [
    "#Comments allow you understand the purpose of the code\n",
    "#Lines after # are ignored by python\n",
    "\n",
    "print(\"This is my program\") #and this comment is ignored\n",
    "\n",
    "# With the help of comments, you can \"turn off\" parts of the code:\n",
    "\n",
    "# print(\"Code doesn't work.\")\n",
    "\n",
    "print(\"The code works!\")"
   ]
  },
  {
   "cell_type": "markdown",
   "id": "037f7bf0-63e9-431d-bce1-5bd61fd526b2",
   "metadata": {},
   "source": [
    "_**<p style=\"font-family: Arial; font-size:1.1em;color:lime;\"> Example3: Numbers and Math</p>**_"
   ]
  },
  {
   "cell_type": "code",
   "execution_count": 3,
   "id": "97c46871-a687-4f0e-b526-5c7414a8cc8c",
   "metadata": {},
   "outputs": [
    {
     "name": "stdout",
     "output_type": "stream",
     "text": [
      "I'll count my livestock:\n",
      "Chicken 30.0\n",
      "Roosters 97\n",
      "And now I'll count all eggs:\n",
      "6.75\n",
      "Is it true, that 3 + 2 < 5 - 7?\n",
      "False\n",
      "What is 3 + 2? 5\n",
      "What is 5 -7? -2\n",
      "Oops, I seem to be confused...Why False\n",
      "I'll count again\n",
      "Is it bigger? True\n",
      "Is greater then or equal to? True\n",
      "Is less then or equal to? False\n",
      "After converting float to integer :  3\n",
      "type :  <class 'int'>\n",
      "After converting string to integer :  323\n",
      "type :  <class 'int'>\n"
     ]
    }
   ],
   "source": [
    "print(\"I'll count my livestock:\")\n",
    "print(\"Chicken\", 25 + 30 / 6)\n",
    "print(\"Roosters\", 100 - 25 * 3 % 4)\n",
    "print(\"And now I'll count all eggs:\")\n",
    "print(3 + 2 + 1 - 5 + 4 % 2 - 1 / 4 + 6)\n",
    "print(\"Is it true, that 3 + 2 < 5 - 7?\")\n",
    "print(3 + 2 < 5 -7)\n",
    "print(\"What is 3 + 2?\", 3 + 2)\n",
    "print(\"What is 5 -7?\", 5 -7)\n",
    "print(\"Oops, I seem to be confused...Why False\")\n",
    "print(\"I'll count again\")\n",
    "print(\"Is it bigger?\", 5 > -2)\n",
    "print(\"Is greater then or equal to?\", 5 >= -2)\n",
    "print(\"Is less then or equal to?\",5 <= -2)\n",
    "\n",
    "\n",
    "# lynks >> https://www.geeksforgeeks.org/python-numbers-type-conversion-and-mathematics/\n",
    "# Python code to demonstrate Type conversion \n",
    "var1 = 3.14\n",
    "  \n",
    "# type conversion of float to int .\n",
    "var2 = int(var1) \n",
    "  \n",
    "print (\"After converting float to integer : \", var2) \n",
    "print (\"type : \",type(var2))\n",
    "  \n",
    "# type conversion of string to integer\n",
    "var3 = \"323\"\n",
    "var4 = int(var3) \n",
    "  \n",
    "print (\"After converting string to integer : \", var4) \n",
    "print (\"type : \",type(var4))"
   ]
  },
  {
   "cell_type": "markdown",
   "id": "39130b98-8863-45c5-9503-1bd96654c85d",
   "metadata": {},
   "source": [
    "_**<p style=\"font-family: Arial; font-size:1.1em;color:lime;\"> Example4: Variables and names</p>**_"
   ]
  },
  {
   "cell_type": "code",
   "execution_count": 4,
   "id": "e7957652-08ec-44c9-8698-36a1d78ff014",
   "metadata": {},
   "outputs": [
    {
     "name": "stdout",
     "output_type": "stream",
     "text": [
      "In stock 100 cars\n",
      "M only 30 drivers went to work\n",
      "It turns out that 70 cars are empty\n",
      "We can transport today 120.0 person\n",
      "Today you need to take 90 person\n",
      "There wiil be approximately 3.0 person in each car\n"
     ]
    }
   ],
   "source": [
    "cars = 100\n",
    "space_in_a_car = 4.0\n",
    "drivers = 30\n",
    "passengers = 90\n",
    "cars_not_driven = cars - drivers\n",
    "cars_driven = drivers\n",
    "carpool_capacity = cars_driven * space_in_a_car\n",
    "average_passengers_per_car = passengers / cars_driven\n",
    "\n",
    "print(\"In stock\", cars, \"cars\")\n",
    "print(\"M only\", drivers, \"drivers went to work\")\n",
    "print(\"It turns out that\", cars_not_driven, \"cars are empty\")\n",
    "print(\"We can transport today\", carpool_capacity, \"person\")\n",
    "print(\"Today you need to take\", passengers, \"person\")\n",
    "print(\"There wiil be approximately\", average_passengers_per_car, \"person in each car\")"
   ]
  },
  {
   "cell_type": "markdown",
   "id": "1f463884-cb33-42fb-8a3b-f15dd35f8ca7",
   "metadata": {},
   "source": [
    "_**<p style=\"font-family: Arial; font-size:1.1em;color:lime;\"> Example5: More about variables and output</p>**_"
   ]
  },
  {
   "cell_type": "code",
   "execution_count": 5,
   "id": "4e2e7a66-e3e3-4769-a4bf-fb4db7518274",
   "metadata": {},
   "outputs": [
    {
     "name": "stdout",
     "output_type": "stream",
     "text": [
      "Let's talk about a person Zed Shaw\n",
      "His height is 188cm\n",
      "His weight is 80kg\n",
      "Actually,it's not mutch\n",
      "Him blue eyes and chestnut hair\n",
      "His tees are usually white, although he likes to drink coffe\n",
      "If I add 35 and 188 and 80, I get 303\n"
     ]
    }
   ],
   "source": [
    "my_name = 'Zed Shaw'\n",
    "my_age = 35 #this is true\n",
    "my_height = 188 #cm\n",
    "my_weight = 80 #kg\n",
    "my_eyes = 'blue'\n",
    "my_tees = 'white'\n",
    "my_hair = 'chestnut'\n",
    "\n",
    "print(f\"Let's talk about a person {my_name}\")\n",
    "print(f\"His height is {my_height}cm\")\n",
    "print(f\"His weight is {my_weight}kg\")\n",
    "print(\"Actually,it's not mutch\")\n",
    "print(f\"Him {my_eyes} eyes and {my_hair} hair\")\n",
    "print(f\"His tees are usually {my_tees}, although he likes to drink coffe\")\n",
    "\n",
    "total = my_age + my_height + my_weight\n",
    "print(f\"If I add {my_age} and {my_height} and {my_weight}, I get {total}\")"
   ]
  },
  {
   "cell_type": "markdown",
   "id": "2b7049fe-0a0b-413e-a6d9-2a5f68e85d05",
   "metadata": {},
   "source": [
    "_**<p style=\"font-family: Arial; font-size:1.1em;color:lime;\"> Example6: Lines and text</p>**_"
   ]
  },
  {
   "cell_type": "code",
   "execution_count": 6,
   "id": "d3ad016d-5c12-4510-8c75-2c9d9dba2ddc",
   "metadata": {},
   "outputs": [
    {
     "name": "stdout",
     "output_type": "stream",
     "text": [
      "There are 10 types of people\n",
      "Those who accept Python, and those who - does not understand\n",
      "I said There are 10 types of people\n",
      "And also i said Those who accept Python, and those who - does not understand\n",
      "Isn't that funny?! ()\n",
      "This is the part of the string on the left...and this is on the right\n"
     ]
    }
   ],
   "source": [
    "types_of_people = 10\n",
    "\n",
    "x = f\"There are {types_of_people} types of people\"\n",
    "\n",
    "binary = \"Python\"\n",
    "do_not = \"does not understand\"\n",
    "\n",
    "y = f\"Those who accept {binary}, and those who - {do_not}\"\n",
    "\n",
    "print(x)\n",
    "print(y)\n",
    "\n",
    "print(f\"I said {x}\")\n",
    "print(f\"And also i said {y}\")\n",
    "\n",
    "hilarious = False\n",
    "joke_evaluation = \"Isn't that funny?! ()\"\n",
    "print(joke_evaluation.format(hilarious))\n",
    "\n",
    "w = \"This is the part of the string on the left...\"\n",
    "e = \"and this is on the right\"\n",
    "print(w + e)"
   ]
  },
  {
   "cell_type": "markdown",
   "id": "bf17a189-f950-40a4-b821-fa76c950c675",
   "metadata": {},
   "source": [
    "_**<p style=\"font-family: Arial; font-size:1.1em;color:lime;\"> Example7: More about withdrawal</p>**_"
   ]
  },
  {
   "cell_type": "code",
   "execution_count": 7,
   "id": "06af2ffc-fba9-4161-b651-785505346d3c",
   "metadata": {},
   "outputs": [
    {
     "name": "stdout",
     "output_type": "stream",
     "text": [
      "Mary had a little lamb.\n",
      "His fur was as white as snow.\n",
      "And ewerywere Mary went,\n",
      "The litle lamb always followed her.\n",
      "..........\n",
      "Baddy Gay\n"
     ]
    }
   ],
   "source": [
    "print(\"Mary had a little lamb.\")\n",
    "print(\"His fur was as white as {}.\".format('snow'))\n",
    "print(\"And ewerywere Mary went,\")\n",
    "print(\"The litle lamb always followed her.\")\n",
    "print(\".\" * 10) #what could this mean?\n",
    "end1 = \"B\"\n",
    "end2 = \"a\"\n",
    "end3 = \"d\"\n",
    "end4 = \"d\"\n",
    "end5 = \"y\"\n",
    "end6 = \"G\"\n",
    "end7 = \"a\"\n",
    "end8 = \"y\"\n",
    "\n",
    "#Note the comma at the and of the line.Take her away.What happenedQ!?\n",
    "print(end1 + end2 + end3 + end4 + end5, end =' ')\n",
    "print(end6 + end7 + end8)"
   ]
  },
  {
   "cell_type": "markdown",
   "id": "5252e489-dd3e-4ebf-bcd9-0f2a6cca0cbd",
   "metadata": {},
   "source": [
    "_**<p style=\"font-family: Arial; font-size:1.1em;color:lime;\"> Example8: Conclusion, conclusion</p>**_"
   ]
  },
  {
   "cell_type": "code",
   "execution_count": 11,
   "id": "e43eb0ef-0e7b-4c5c-9714-f95ccb89aab5",
   "metadata": {},
   "outputs": [
    {
     "name": "stdout",
     "output_type": "stream",
     "text": [
      "1 2 3 4\n",
      "one two three for\n",
      "True False False True\n",
      "{} {} {} {} {} {} {} {} {} {} {} {} {} {} {} {}\n",
      "They sleep in the pony stable snow began to fall only boy Gonny doesn't go to sleep!\n"
     ]
    }
   ],
   "source": [
    "formatter = \"{} {} {} {}\"\n",
    "\n",
    "print(formatter.format(1, 2, 3, 4))\n",
    "print(formatter.format(\"one\", \"two\", \"three\", \"for\"))\n",
    "print(formatter.format(True, False, False, True))\n",
    "print(formatter.format(formatter, formatter, formatter, formatter))\n",
    "print(formatter.format(\n",
    "       \"They sleep in the pony stable\",\n",
    "       \"snow began to fall\",\n",
    "       \"only boy Gonny\",\n",
    "       \"doesn't go to sleep!\"\n",
    "))"
   ]
  },
  {
   "cell_type": "markdown",
   "id": "71722cbe-95b5-4087-bc94-2ad366de0e1b",
   "metadata": {},
   "source": [
    "_**<p style=\"font-family: Arial; font-size:1.1em;color:lime;\"> Example9: Conclusion, conclusion, conclusion</p>**_"
   ]
  },
  {
   "cell_type": "code",
   "execution_count": 9,
   "id": "807ca071-6a0b-4ae5-9b83-c3fb31107e01",
   "metadata": {},
   "outputs": [
    {
     "name": "stdout",
     "output_type": "stream",
     "text": [
      "These are the day of the week: Mo Tu We Th Fr Sa Su\n",
      "And these are the month: \n",
      "Jan\n",
      "Feb\n",
      "Mar\n",
      "Apr\n",
      "May\n",
      "Jun\n",
      "Jul\n",
      "Aug\n",
      "\n",
      "      what is going on here!?\n",
      "      Three double quotes are used.\n",
      "      We can type as much text as we want.\n",
      "      Even 4 lines, 5 or 6. \n",
      "\n"
     ]
    }
   ],
   "source": [
    "#Somewhat unusual code,type it exactly\n",
    "\n",
    "days = \"Mo Tu We Th Fr Sa Su\"\n",
    "month = \"\\nJan\\nFeb\\nMar\\nApr\\nMay\\nJun\\nJul\\nAug\"\n",
    "\n",
    "print(\"These are the day of the week:\", days)\n",
    "print(\"And these are the month:\", month)\n",
    "\n",
    "print(\"\"\"\n",
    "      what is going on here!?\n",
    "      Three double quotes are used.\n",
    "      We can type as much text as we want.\n",
    "      Even 4 lines, 5 or 6. \n",
    "\"\"\"\n",
    ")"
   ]
  },
  {
   "cell_type": "markdown",
   "id": "dfe049f4-dc9b-402a-8ac7-8fa35eefaaad",
   "metadata": {},
   "source": [
    "_**<p style=\"font-family: Arial; font-size:1.1em;color:lime;\"> Example10: Managers sequences</p>**_"
   ]
  },
  {
   "cell_type": "code",
   "execution_count": 10,
   "id": "d2a96567-c472-4100-afd4-ef96fd3f2d7c",
   "metadata": {},
   "outputs": [
    {
     "name": "stdout",
     "output_type": "stream",
     "text": [
      "\tMy name is d_Artangan\n",
      "This line\n",
      "is split is two\n",
      "I am \\ - \\ musketeer\n",
      "\n",
      "Tips:\n",
      "\t* Earl of Gascony\n",
      "\t* Linked to Milady\n",
      "\t* Baron\n",
      "\t* Orden General\n",
      "\n"
     ]
    }
   ],
   "source": [
    "d_artagnan = \"\\tMy name is d_Artangan\"\n",
    "athos = \"This line\\nis split is two\"\n",
    "porthos = \"I am \\\\ - \\\\ musketeer\"\n",
    "\n",
    "aramis = \"\"\"\n",
    "Tips:\n",
    "\\t* Earl of Gascony\n",
    "\\t* Linked to Milady\n",
    "\\t* Baron\\n\\t* Orden General\n",
    "\"\"\"\n",
    "\n",
    "print(d_artagnan)\n",
    "print(athos)\n",
    "print(porthos)\n",
    "print(aramis)"
   ]
  },
  {
   "cell_type": "markdown",
   "id": "84cff5c8-1a49-42e1-8115-6ce656bbbd4c",
   "metadata": {},
   "source": [
    "_**<p style=\"font-family: Arial; font-size:1.1em;color:lime;\"> Example 11: Getting Answers to questions</p>**_"
   ]
  },
  {
   "cell_type": "code",
   "execution_count": 6,
   "id": "322fe5c8-c31c-413a-9fa2-83c2e72fa93c",
   "metadata": {},
   "outputs": [
    {
     "name": "stdout",
     "output_type": "stream",
     "text": [
      "How old are you? "
     ]
    },
    {
     "name": "stdin",
     "output_type": "stream",
     "text": [
      " 30\n"
     ]
    },
    {
     "name": "stdout",
     "output_type": "stream",
     "text": [
      "What is your height? "
     ]
    },
    {
     "name": "stdin",
     "output_type": "stream",
     "text": [
      " 180\n"
     ]
    },
    {
     "name": "stdout",
     "output_type": "stream",
     "text": [
      "How much do you weight? "
     ]
    },
    {
     "name": "stdin",
     "output_type": "stream",
     "text": [
      " 80\n"
     ]
    },
    {
     "name": "stdout",
     "output_type": "stream",
     "text": [
      "\n",
      "So, you 30 years old and you are 180 cm height and you are 80 kg weight.\n"
     ]
    }
   ],
   "source": [
    "print(\"How old are you?\", end=' ')\n",
    "age = input()\n",
    "print(\"What is your height?\", end=' ')\n",
    "height = input()\n",
    "print(\"How much do you weight?\", end=' ')\n",
    "weight = input()\n",
    "\n",
    "print(f\"\\nSo, you {age} years old and you are {height} cm height and you are {weight} kg weight.\")\n"
   ]
  },
  {
   "cell_type": "markdown",
   "id": "908bbbc0-b72e-4b71-a1c8-acda305b46f9",
   "metadata": {},
   "source": [
    "_**<p style=\"font-family: Arial; font-size:1.1em;color:lime;\"> Example 12: Entry prompt</p>**_"
   ]
  },
  {
   "cell_type": "code",
   "execution_count": 9,
   "id": "2c3982d9-03f2-4ffc-b79f-377e704ec778",
   "metadata": {},
   "outputs": [
    {
     "name": "stdin",
     "output_type": "stream",
     "text": [
      "How old are you? 30\n",
      "What is your height? 180\n",
      "What is your weight? 80\n"
     ]
    },
    {
     "name": "stdout",
     "output_type": "stream",
     "text": [
      "\n",
      "So, you 30 years old and you are 180 cm height and you are 80 kg weight.\n"
     ]
    }
   ],
   "source": [
    "age = input(\"How old are you?\")\n",
    "height = input(\"What is your height?\")\n",
    "weight = input(\"What is your weight?\")\n",
    "\n",
    "print(f\"\\nSo, you {age} years old and you are {height} cm height and you are {weight} kg weight.\")"
   ]
  },
  {
   "cell_type": "markdown",
   "id": "3fdee674-66eb-4157-bae5-a5e7099c9eb4",
   "metadata": {},
   "source": [
    "_**<p style=\"font-family: Arial; font-size:1.1em;color:lime;\"> Example 13: Parameters, unpacking, variables</p>**_"
   ]
  },
  {
   "cell_type": "code",
   "execution_count": null,
   "id": "52ae0075-d806-4ec4-9bfe-986e8fc77a1f",
   "metadata": {},
   "outputs": [],
   "source": [
    "#run sript in command line shell >> python3 ex13.py arg1 arg2 arg3\n",
    "from sys import argv\n",
    "# read the execution result section to understand, how run this script\n",
    "script, first, second, third = argv\n",
    "print(\"This script is called:\", script)\n",
    "print(\"My first variable is called:\", first)\n",
    "print(\"My second variable is called:\", second)\n",
    "print(\"Mythird variable is called:\", third)"
   ]
  },
  {
   "cell_type": "markdown",
   "id": "a030eed1-57e3-4d63-b52d-0ec7b3e68407",
   "metadata": {},
   "source": [
    "_**<p style=\"font-family: Arial; font-size:1.1em;color:lime;\"> Example 14: Requests and confirmations</p>**_"
   ]
  },
  {
   "cell_type": "code",
   "execution_count": null,
   "id": "187cb876-d990-44b2-b68b-e112fd388d56",
   "metadata": {},
   "outputs": [],
   "source": [
    "#run sript in command line shell >> python3 ex14.py arg1\n",
    "from sys import argv\n",
    "script, user_name = argv\n",
    "prompt = '> '\n",
    "\n",
    "print(f\"Hi, {user_name}, I'm {script}.\")\n",
    "print(\"I want to ask you some questions.\")\n",
    "print(f\"Do you like me, {user_name}?\")\n",
    "likes = input(prompt)\n",
    "\n",
    "print(f\"Where do you live, {user_name}?\")\n",
    "lives = input(prompt)\n",
    "\n",
    "print(\"What your computer do you work on?\")\n",
    "computer = input(prompt)\n",
    "\n",
    "print(\n",
    "f\"\"\"\n",
    "    So you answered {likes} to the question wheter you like me.\n",
    "    You live {lives}.I can't imagine where it is.\n",
    "     And you have a computer {computer}.\n",
    "     Wonderful) \n",
    "\"\"\")"
   ]
  },
  {
   "cell_type": "markdown",
   "id": "a54fc438-d176-433c-83f4-7c11937127fc",
   "metadata": {},
   "source": [
    "_**<p style=\"font-family: Arial; font-size:1.1em;color:lime;\"> Example 15: Reading files</p>**_"
   ]
  },
  {
   "cell_type": "code",
   "execution_count": null,
   "id": "62ea1884-e17b-4e0b-bf3e-f2ec0e07aa05",
   "metadata": {},
   "outputs": [],
   "source": [
    "#run sript in command line shell >> python3 ex15.py ex15_sample.txt \n",
    "from sys import argv                                                              2  \n",
    "script, filename = argv\n",
    "\n",
    "txt = open(filename)\n",
    " \n",
    "print(f\"File contents {filename}:\")\n",
    "print(txt.read())\n",
    " \n",
    "print(\"Enter the filename again:\")\n",
    "file_again = input(\"> \")\n",
    " \n",
    "txt_again = open(file_again)\n",
    " \n",
    "print(txt_again.read())"
   ]
  },
  {
   "cell_type": "code",
   "execution_count": null,
   "id": "0bec9623-7a1a-425a-bee5-905e82e87d3c",
   "metadata": {},
   "outputs": [],
   "source": [
    "#ex15-sample.txt\n",
    "Mary had a little lamb.\n",
    "His fur was white as snow.\n",
    "And ewerywhere mary waent, the little lamb always followed her."
   ]
  },
  {
   "cell_type": "markdown",
   "id": "cab180c4-2bd2-4bb5-8271-01ba656d4c1f",
   "metadata": {},
   "source": [
    "_**<p style=\"font-family: Arial; font-size:1.1em;color:lime;\"> Example 16: Reading and writing files</p>**_"
   ]
  },
  {
   "cell_type": "code",
   "execution_count": null,
   "id": "95b485e9-2a1c-4d0d-ac9d-3c83ecbcc0f2",
   "metadata": {},
   "outputs": [],
   "source": [
    "#run sript in command line shell >> python3 ex16.py ex16_sample.txt \n",
    "from sys import argv                                                              \n",
    "script, filename = argv\n",
    " \n",
    "print(f\"I'm about to delete the file {filename}.\")\n",
    "print(\"If you don't want to erase it, press CTRL+C (^C).\")\n",
    "print(\"if you want to delete the file, press the Enter key.\")\n",
    " \n",
    "input(\"?\")\n",
    " \n",
    "print(\"Opening a file...\")\n",
    "target = open(filename, 'w')\n",
    " \n",
    "print(\"File Cleaning.GoodBye!\")\n",
    "target.truncate()\n",
    " \n",
    "print(\"Now I ask you three lines.\")\n",
    " \n",
    "line1 = input(\"line 1: \")\n",
    "line2 = input(\"line 2: \")\n",
    "line3 = input(\"line 3: \")\n",
    " \n",
    "print(\"I will write this to a file\")\n",
    " \n",
    "target.write(line1)\n",
    "target.write(\"\\n\")\n",
    "target.write(line2)\n",
    "target.write(\"\\n\")\n",
    "target.write(line3)\n",
    "target.write(\"\\n\")\n",
    " \n",
    "print(\"And finally, I will close the file.\")\n",
    "target.close()"
   ]
  },
  {
   "cell_type": "markdown",
   "id": "adc6c2ea-b995-4450-b4c9-98bc00b58fbf",
   "metadata": {},
   "source": [
    "_**<p style=\"font-family: Arial; font-size:1.1em;color:lime;\"> Example 17: More about files</p>**_"
   ]
  },
  {
   "cell_type": "code",
   "execution_count": null,
   "id": "896068f4-8c11-4cde-ad90-8e7c9a1371af",
   "metadata": {},
   "outputs": [],
   "source": [
    "# create file >> echo \"This test file\" > ex17_from_file.txt && cat ex17_from_file.txt\n",
    "# run script in command line shell >> python3 ex17.py ex17_from_file.txt ex17_to_file.txt\n",
    "\n",
    "from sys import argv                                                              \n",
    "from os.path import exists\n",
    " \n",
    "script, from_file, to_file = argv\n",
    "print(f\"Copy data from the file {from_file} to file {to_file}\")\n",
    "\n",
    "#can you put the following two lines of code into one?\n",
    " \n",
    "in_file = open(from_file)\n",
    "indata = in_file.read()\n",
    " \n",
    "print(f\"Source file is {len(indata) } bytes\")\n",
    "print(f\"Does target file exist? {exists(to_file) }\")\n",
    "print(\"Ready, press the key Enter to continue or CTRL+C to cancel.\")\n",
    " \n",
    "input()\n",
    " \n",
    "out_file = open(to_file, 'w')\n",
    "out_file.write(indata)\n",
    " \n",
    "print(\"Great, it's all done!\")\n",
    " \n",
    "out_file.close()\n",
    "in_file.close()"
   ]
  },
  {
   "cell_type": "markdown",
   "id": "6161c2de-315a-4488-90a5-19a88d10e2d2",
   "metadata": {},
   "source": [
    "_**<p style=\"font-family: Arial; font-size:1.1em;color:lime;\"> Example 18: Names, variables, code, functions</p>**_"
   ]
  },
  {
   "cell_type": "code",
   "execution_count": null,
   "id": "90ca5ed1-c761-49bc-8641-661fb22410c9",
   "metadata": {},
   "outputs": [],
   "source": [
    "#similar to argv scripts\n",
    "def print_two(*args):\n",
    "    arg1, arg2 = args\n",
    "    print(f\"arg1: (arg1), arg2: (arg2)\")\n",
    "\n",
    "#ok, here instead of *args we do the following\n",
    "def print_two_again(arg1, arg2):\n",
    "    print(f\"arg1: (arg1), arg2: (arg2)\")\n",
    "\n",
    "#takes only one argument\n",
    "def print_one(arg1):\n",
    "    print(f\"arg1: (arg1)\")\n",
    "\n",
    "#takes no arguments\n",
    "def print_none():\n",
    "    print(\"And I don't get anything.\")\n",
    "\n",
    "print_two(\"Data\",\"Science\")\n",
    "print_two_again(\"Data\",\"Science\")\n",
    "print_one(\"The best!\")\n",
    "print_none()"
   ]
  },
  {
   "cell_type": "markdown",
   "id": "57acaeb1-6596-49ba-a949-fe0c851021ef",
   "metadata": {},
   "source": [
    "_**<p style=\"font-family: Arial; font-size:1.1em;color:lime;\"> Example 19: Functions and Variables</p>**_"
   ]
  },
  {
   "cell_type": "code",
   "execution_count": null,
   "id": "7b55576c-db60-4a00-88bc-f9a250d0a60c",
   "metadata": {},
   "outputs": [],
   "source": [
    "def cheese_and_crackers(cheese_count, boxes_of_crackers):\n",
    "     print(f\"We have {cheese_count} cheeses!\")\n",
    "     print(f\"We have {boxes_of_crackers} packs of chips!\")\n",
    "     print(\"Enough for a party!\")\n",
    "     print(\"Let's go!\\n\")\n",
    "\n",
    "print(\"We can directly pass numbers to the function\") \n",
    "cheese_and_crackers(20,30)\n",
    "\n",
    "print(\"OR,we can use variables from our script:\")\n",
    "amount_of_cheese = 10\n",
    "amount_of_crackers = 50\n",
    "\n",
    "cheese_and_crackers(amount_of_cheese, amount_of_crackers)\n",
    "\n",
    "\n",
    "print(\"We can even perform calculations within a function:\")\n",
    "cheese_and_crackers(10 + 20, 5 + 6)\n",
    "\n",
    "print(\"And combine variables with calculations:\")\n",
    "cheese_and_crackers(amount_of_cheese + 100, amount_of_crackers + 1000)"
   ]
  },
  {
   "cell_type": "markdown",
   "id": "bf57fd7a-d5e8-4123-9a1b-64b4c43ec90c",
   "metadata": {},
   "source": [
    "_**<p style=\"font-family: Arial; font-size:1.1em;color:lime;\"> Example 20: Functions and Files</p>**_"
   ]
  },
  {
   "cell_type": "code",
   "execution_count": null,
   "id": "fc33cde7-1763-40fd-9bc2-ec17e0c9d10d",
   "metadata": {},
   "outputs": [],
   "source": [
    "# run script in command line shell >> python3 ex20.py ex16_from_file.txt\n",
    "from sys import argv\n",
    "\n",
    "script, input_file = argv\n",
    "\n",
    "def print_all(f):\n",
    "    print(f.read())\n",
    "\n",
    "def rewind(f):\n",
    "    f.seek(0)\n",
    "\n",
    "def print_a_line(line_count, f):\n",
    "    print(line_count, f.readline())\n",
    "\n",
    "current_file = open(input_file)\n",
    "\n",
    "print(\"First of all, we will output this file in its entirety:\\n\")\n",
    "\n",
    "print_all(current_file)\n",
    "\n",
    "print(\"Now rewind like it's a cassette.\")\n",
    "\n",
    "rewind(current_file)\n",
    "\n",
    "print(\"Let's print three lines:\")\n",
    "\n",
    "current_line = 1\n",
    "print_a_line(current_line,current_file)\n",
    "\n",
    "current_line = current_line + 1\n",
    "print_a_line(current_line,current_file)\n",
    "\n",
    "current_line = current_line + 1\n",
    "print_a_line(current_line,current_file)"
   ]
  },
  {
   "cell_type": "markdown",
   "id": "0d4c1b7c-8fe2-4c08-8cfc-95c7cf7518a8",
   "metadata": {},
   "source": [
    "_**<p style=\"font-family: Arial; font-size:1.1em;color:lime;\"> Example 21: What functions return</p>**_"
   ]
  },
  {
   "cell_type": "code",
   "execution_count": null,
   "id": "bc681353-81ec-4229-94ca-6833ac22cd73",
   "metadata": {},
   "outputs": [],
   "source": [
    "#Functional for mathematical operations\n",
    "\n",
    "def add(a, b):\n",
    "    print(f\"ADDITION {a} + {b}\")\n",
    "    return a + b\n",
    "\n",
    "def subtract(a, b):\n",
    "    print(f\"SUBTRACTION {a} - {b}\")\n",
    "    return a - b\n",
    "\n",
    "def multiply(a, b):\n",
    "    print(f\"MULTIPLICATION {a} * {b}\")\n",
    "    return a * b\n",
    "\n",
    "def divide(a, b):\n",
    "    print(f\"DIVISION {a} / {b}\")\n",
    "    return a / b\n",
    "\n",
    "print(\"Let's do some calculations with functions!\")\n",
    "\n",
    "age = add(30, 5)\n",
    "height = subtract(190, 4)\n",
    "weight = multiply(35, 2)\n",
    "iq = divide(250, 2)\n",
    "\n",
    "print(f\"Age: {age}, \\nHeight: {height}, \\nWeight: {weight}, \\nIQ: {iq}\")\n",
    "\n",
    "#Puzzle as an optional chllenge, enter the code anyway\n",
    "\n",
    "what = add(age, subtract(height, multiply(weight, divide(iq, 2))))\n",
    "\n",
    "print(\"It turns out: \", what, \"Can you calculate this manually!?\")"
   ]
  },
  {
   "cell_type": "markdown",
   "id": "785027b9-ed96-4241-98c3-e15052a21d78",
   "metadata": {},
   "source": [
    "_**<p style=\"font-family: Arial; font-size:1.1em;color:lime;\"> Example 23: Strings, bytes and encodings characters</p>**_"
   ]
  },
  {
   "cell_type": "code",
   "execution_count": 18,
   "id": "fd423e8c-53de-468f-b4e5-972eb6034b2e",
   "metadata": {},
   "outputs": [
    {
     "ename": "LookupError",
     "evalue": "unknown encoding: -f",
     "output_type": "error",
     "traceback": [
      "\u001b[0;31m---------------------------------------------------------------------------\u001b[0m",
      "\u001b[0;31mLookupError\u001b[0m                               Traceback (most recent call last)",
      "\u001b[0;32m/tmp/ipykernel_21545/1391460671.py\u001b[0m in \u001b[0;36m<module>\u001b[0;34m\u001b[0m\n\u001b[1;32m     22\u001b[0m \u001b[0mlanguages\u001b[0m \u001b[0;34m=\u001b[0m \u001b[0mopen\u001b[0m\u001b[0;34m(\u001b[0m\u001b[0;34m\"./shaw_python3/ex23/languages.txt\"\u001b[0m\u001b[0;34m,\u001b[0m \u001b[0mencoding\u001b[0m\u001b[0;34m=\u001b[0m\u001b[0;34m\"utf-8\"\u001b[0m\u001b[0;34m)\u001b[0m\u001b[0;34m\u001b[0m\u001b[0;34m\u001b[0m\u001b[0m\n\u001b[1;32m     23\u001b[0m \u001b[0;34m\u001b[0m\u001b[0m\n\u001b[0;32m---> 24\u001b[0;31m \u001b[0mmain\u001b[0m\u001b[0;34m(\u001b[0m\u001b[0mlanguages\u001b[0m\u001b[0;34m,\u001b[0m \u001b[0mencoding\u001b[0m\u001b[0;34m,\u001b[0m \u001b[0merror\u001b[0m\u001b[0;34m)\u001b[0m\u001b[0;34m\u001b[0m\u001b[0;34m\u001b[0m\u001b[0m\n\u001b[0m",
      "\u001b[0;32m/tmp/ipykernel_21545/1391460671.py\u001b[0m in \u001b[0;36mmain\u001b[0;34m(language_file, encoding, errors)\u001b[0m\n\u001b[1;32m     10\u001b[0m \u001b[0;34m\u001b[0m\u001b[0m\n\u001b[1;32m     11\u001b[0m     \u001b[0;32mif\u001b[0m \u001b[0mline\u001b[0m\u001b[0;34m:\u001b[0m\u001b[0;34m\u001b[0m\u001b[0;34m\u001b[0m\u001b[0m\n\u001b[0;32m---> 12\u001b[0;31m         \u001b[0mprint_line\u001b[0m\u001b[0;34m(\u001b[0m\u001b[0mline\u001b[0m\u001b[0;34m,\u001b[0m \u001b[0mencoding\u001b[0m\u001b[0;34m,\u001b[0m \u001b[0merrors\u001b[0m\u001b[0;34m)\u001b[0m\u001b[0;34m\u001b[0m\u001b[0;34m\u001b[0m\u001b[0m\n\u001b[0m\u001b[1;32m     13\u001b[0m         \u001b[0;32mreturn\u001b[0m \u001b[0mmain\u001b[0m\u001b[0;34m(\u001b[0m\u001b[0mlanguage_file\u001b[0m\u001b[0;34m,\u001b[0m \u001b[0mencoding\u001b[0m\u001b[0;34m,\u001b[0m \u001b[0merrors\u001b[0m\u001b[0;34m)\u001b[0m\u001b[0;34m\u001b[0m\u001b[0;34m\u001b[0m\u001b[0m\n\u001b[1;32m     14\u001b[0m \u001b[0;34m\u001b[0m\u001b[0m\n",
      "\u001b[0;32m/tmp/ipykernel_21545/1391460671.py\u001b[0m in \u001b[0;36mprint_line\u001b[0;34m(line, encoding, errors)\u001b[0m\n\u001b[1;32m     15\u001b[0m \u001b[0;32mdef\u001b[0m \u001b[0mprint_line\u001b[0m\u001b[0;34m(\u001b[0m\u001b[0mline\u001b[0m\u001b[0;34m,\u001b[0m \u001b[0mencoding\u001b[0m\u001b[0;34m,\u001b[0m \u001b[0merrors\u001b[0m\u001b[0;34m)\u001b[0m\u001b[0;34m:\u001b[0m\u001b[0;34m\u001b[0m\u001b[0;34m\u001b[0m\u001b[0m\n\u001b[1;32m     16\u001b[0m     \u001b[0mnext_lang\u001b[0m \u001b[0;34m=\u001b[0m \u001b[0mline\u001b[0m\u001b[0;34m.\u001b[0m\u001b[0mstrip\u001b[0m\u001b[0;34m(\u001b[0m\u001b[0;34m)\u001b[0m\u001b[0;34m\u001b[0m\u001b[0;34m\u001b[0m\u001b[0m\n\u001b[0;32m---> 17\u001b[0;31m     \u001b[0mraw_bytes\u001b[0m \u001b[0;34m=\u001b[0m \u001b[0mnext_lang\u001b[0m\u001b[0;34m.\u001b[0m\u001b[0mencode\u001b[0m\u001b[0;34m(\u001b[0m\u001b[0mencoding\u001b[0m\u001b[0;34m,\u001b[0m \u001b[0merrors\u001b[0m\u001b[0;34m=\u001b[0m\u001b[0merrors\u001b[0m\u001b[0;34m)\u001b[0m\u001b[0;34m\u001b[0m\u001b[0;34m\u001b[0m\u001b[0m\n\u001b[0m\u001b[1;32m     18\u001b[0m     \u001b[0mcooked_string\u001b[0m \u001b[0;34m=\u001b[0m \u001b[0mraw_bytes\u001b[0m\u001b[0;34m.\u001b[0m\u001b[0mdecode\u001b[0m\u001b[0;34m(\u001b[0m\u001b[0mencoding\u001b[0m\u001b[0;34m,\u001b[0m \u001b[0merrors\u001b[0m\u001b[0;34m=\u001b[0m\u001b[0merrors\u001b[0m\u001b[0;34m)\u001b[0m\u001b[0;34m\u001b[0m\u001b[0;34m\u001b[0m\u001b[0m\n\u001b[1;32m     19\u001b[0m \u001b[0;34m\u001b[0m\u001b[0m\n",
      "\u001b[0;31mLookupError\u001b[0m: unknown encoding: -f"
     ]
    }
   ],
   "source": [
    "#To complete this exercise, you will need a file called 'languages.txt' (you will find it in the /shaw_python3/ex23/languages.txt folder).\n",
    "#or download file with curl >> curl.exe -O https://learnpythonthehardway.org/python3/languages.txt (https://stackoverflow.com/questions/69706561/learn-python-3-the-hard-way-ex-23-characters-not-showing-in-powershell)\n",
    "#and run script in shell command line >>  python3 ex23.py utf-8 strict  \n",
    "import sys\n",
    "script, encoding, error = sys.argv\n",
    "\n",
    "\n",
    "def main(language_file, encoding, errors):\n",
    "    line = language_file.readline()\n",
    "\n",
    "    if line:\n",
    "        print_line(line, encoding, errors)\n",
    "        return main(language_file, encoding, errors)\n",
    "\n",
    "def print_line(line, encoding, errors):\n",
    "    next_lang = line.strip()\n",
    "    raw_bytes = next_lang.encode(encoding, errors=errors)\n",
    "    cooked_string = raw_bytes.decode(encoding, errors=errors)\n",
    "\n",
    "    print(raw_bytes, \"<===>\", cooked_string)\n",
    "\n",
    "languages = open(\"./shaw_python3/ex23/languages.txt\", encoding=\"utf-8\")    \n",
    "\n",
    "main(languages, encoding, error)"
   ]
  },
  {
   "cell_type": "markdown",
   "id": "c25dac08-5cbb-498e-9dcd-90c52bf27837",
   "metadata": {},
   "source": [
    "_**<p style=\"font-family: Arial; font-size:1.1em;color:lime;\"> Example 24: Additional practice</p>**_"
   ]
  },
  {
   "cell_type": "code",
   "execution_count": 17,
   "id": "f34c013b-0bb7-441d-a7fe-0ffe112315ed",
   "metadata": {},
   "outputs": [
    {
     "name": "stdout",
     "output_type": "stream",
     "text": [
      "Let's practice!\n",
      "You should know about \\ escape sequences that:\n",
      "\n",
      " control line breaks and \t indentation.\n",
      "--------------------------------------------\n",
      "\n",
      "\t For happiness I need very little.\n",
      "   I want you \n",
      " I gently hug.\n",
      "   I always want\n",
      "   I'm next to you\n",
      "   \n",
      "\t\t and never let go\n",
      "\n",
      "--------------------------------------------\n",
      "This should be live: 5\n",
      "Beginning with: 10000\n",
      "We have 5000000 beans, 5000.0 jars and 50.0 crates.\n",
      "We can also do it this way:\n",
      "We have 500000.0 beans, 500.0 jars and 5.0 boxes.\n"
     ]
    }
   ],
   "source": [
    "print(\"Let's practice!\")\n",
    "print('You should know about \\\\ escape sequences that:')\n",
    "print('\\n control line breaks and \\t indentation.')\n",
    "\n",
    "poem = \"\"\"\n",
    "\\t For happiness I need very little.\n",
    "   I want you \\n I gently hug.\n",
    "   I always want\n",
    "   I'm next to you\n",
    "   \\n\\t\\t and never let go\n",
    "\"\"\"\n",
    "\n",
    "print(\"--------------------------------------------\")\n",
    "print(poem)\n",
    "print(\"--------------------------------------------\")\n",
    "\n",
    "five = 10 - 2 + 3 - 6\n",
    "print(f\"This should be live: {five}\")\n",
    "\n",
    "def secret_formula(started):\n",
    "    jelly_beans = started * 500\n",
    "    jars = jelly_beans / 1000\n",
    "    crates = jars / 100\n",
    "    return jelly_beans, jars, crates\n",
    "\n",
    "start_point = 10000\n",
    "\n",
    "beans, jars, crates = secret_formula(start_point)\n",
    "\n",
    "#remember this is another way to format a string\n",
    "print(\"Beginning with: {}\".format(start_point))\n",
    "#same as with string f\"\"\n",
    "print(f\"We have {beans} beans, {jars} jars and {crates} crates.\")\n",
    "\n",
    "start_point = start_point / 10\n",
    "\n",
    "print(\"We can also do it this way:\")\n",
    " \n",
    "formula = secret_formula(start_point)\n",
    "\n",
    "#an easy way to apply a list to a string being formatted\n",
    "print(\"We have {} beans, {} jars and {} boxes.\".format(*formula))"
   ]
  },
  {
   "cell_type": "markdown",
   "id": "5122fc1f-ca37-48ef-b9bf-3f13d40217e0",
   "metadata": {},
   "source": [
    "_**<p style=\"font-family: Arial; font-size:1.1em;color:lime;\"> Example 25: And more practice</p>**_"
   ]
  },
  {
   "cell_type": "code",
   "execution_count": 16,
   "id": "b6c618b9-53f7-4372-a3fe-2a534ea3dfe9",
   "metadata": {},
   "outputs": [],
   "source": [
    "def break_words(stuff):\n",
    "    \"\"\"This function parses text into words.\"\"\"\n",
    "    words = stuff.split(' ')\n",
    "    return words\n",
    "\n",
    "def sort_words(words):\n",
    "    \"\"\"Sort words.\"\"\"\n",
    "    return sorted(words)\n",
    "\n",
    "def print_fist_word(words):\n",
    "    \"\"\"Displays the first word after extraction.\"\"\"\n",
    "    word = words.pop(0)\n",
    "    print(word)\n",
    "\n",
    "def print_last_word(words):\n",
    "    \"\"\"Displays the last word after extraction.\"\"\"\n",
    "    word = words.pop(-1)\n",
    "    print(word)\n",
    "    \n",
    "def sort_sentence(sentence):\n",
    "    \"\"\"Takes a whole sentence and returns the sorted words.\"\"\"\n",
    "    words = break_words(sentence)\n",
    "    return sort_words(words)\n",
    "\n",
    "def print_first_and_last(sentence):\n",
    "    \"\"\"Displays the first and the last words of a sentence.\"\"\"\n",
    "    words = break_words(sentence)\n",
    "    print_fist_word(words)\n",
    "    print_last_word(words)\n",
    "\n",
    "def print_first_and_last_sorted(sentence):\n",
    "    \"\"\"Sorts words and then outputs first and last.\"\"\"\n",
    "    words = sort_sentence(sentence)\n",
    "    print_fist_word(words)\n",
    "    print_last_word(words)"
   ]
  },
  {
   "cell_type": "markdown",
   "id": "3022d22b-5058-4fcc-8704-78628245b945",
   "metadata": {},
   "source": [
    "_**<p style=\"font-family: Arial; font-size:1.1em;color:lime;\"> Example 27: Logic training</p>**_\n",
    "_**<p style=\"font-family: Arial; font-size:1.1em;color:lime;\"> Example 28: Boolean expressions</p>**_\n",
    "_**<p style=\"font-family: Arial; font-size:1.1em;color:lime;\"> Example 29: What if...</p>**_"
   ]
  },
  {
   "cell_type": "code",
   "execution_count": 15,
   "id": "55382b4c-e7f9-4027-85d0-8840d41ae308",
   "metadata": {},
   "outputs": [
    {
     "name": "stdout",
     "output_type": "stream",
     "text": [
      "Too many cats!The world is doomed!\n",
      "He's so bad!\n",
      "There are more or as many people as there are dogs!\n",
      "There are fewer or as many people as dogs!\n",
      "There are as many people as there are dogs!\n"
     ]
    }
   ],
   "source": [
    "people = 20\n",
    "cats =  30\n",
    "dogs = 15\n",
    "\n",
    "if people < cats:\n",
    "    print(\"Too many cats!The world is doomed!\")\n",
    "\n",
    "if people > cats:\n",
    "    print(\"Not so many cats!The world is saved!\")\n",
    "\n",
    "if people < dogs:\n",
    "    print(\"The world is drowning in salival!\")\n",
    "\n",
    "if people > dogs:\n",
    "    print(\"He's so bad!\")\n",
    "\n",
    "dogs += 5\n",
    "\n",
    "if people >= dogs:\n",
    "    print(\"There are more or as many people as there are dogs!\")\n",
    "\n",
    "if people <= dogs:\n",
    "    print(\"There are fewer or as many people as dogs!\")\n",
    "\n",
    "if people == dogs:\n",
    "    print(\"There are as many people as there are dogs!\")\n",
    "\n"
   ]
  },
  {
   "cell_type": "markdown",
   "id": "4f5e20a5-c059-4070-864b-116646ef4ea4",
   "metadata": {},
   "source": [
    "_**<p style=\"font-family: Arial; font-size:1.1em;color:lime;\"> Example 30: And if otherwise...</p>**_"
   ]
  },
  {
   "cell_type": "code",
   "execution_count": 21,
   "id": "45910d0d-2053-4cfa-998d-c57a046f4494",
   "metadata": {},
   "outputs": [
    {
     "name": "stdout",
     "output_type": "stream",
     "text": [
      "Let's go by car.\n",
      "Maybe take a bus!?\n",
      "Okay, let's take the bus.\n"
     ]
    }
   ],
   "source": [
    "people = 30\n",
    "cars = 40\n",
    "trucks = 15\n",
    "\n",
    "if cars > people:\n",
    "    print(\"Let's go by car.\")\n",
    "elif cars < people:\n",
    "    print(\"We will not go by car.\")\n",
    "else:\n",
    "    print(\"We can't choose.\")\n",
    "\n",
    "if trucks > cars:\n",
    "    print(\"Too many buses.\")\n",
    "elif trucks < cars:\n",
    "    print(\"Maybe take a bus!?\")\n",
    "else:\n",
    "    print(\"We still can't choose.\")\n",
    "\n",
    "if people > trucks:\n",
    "    print(\"Okay, let's take the bus.\")\n",
    "else:\n",
    "    print(\"Fine, let's stay at home.\")"
   ]
  },
  {
   "cell_type": "markdown",
   "id": "7f54eaf4-5a32-4c76-8261-a88b2c21009c",
   "metadata": {},
   "source": [
    "_**<p style=\"font-family: Arial; font-size:1.1em;color:lime;\"> Example 31: Making decisions</p>**_"
   ]
  },
  {
   "cell_type": "code",
   "execution_count": null,
   "id": "b726e38c-9a6c-4637-95c3-50af96fa363f",
   "metadata": {},
   "outputs": [],
   "source": [
    "print(\"\"\"\n",
    "      You are in dark room with two doors.\n",
    "      Which door wiil you enter - 1 or 2!?   \n",
    "      \"\"\")\n",
    "\n",
    "door = input(\"> \")\n",
    "\n",
    "if door == \"1\":\n",
    "    print(\"In this room, a giant bear is eating 'Frienship' cheese.\")\n",
    "    print(\"Your actions!?\")\n",
    "    print(\"1. I'll take the cheese.\")\n",
    "    print(\"2. I'll yell in the bears ear.\")\n",
    "\n",
    "    bears = input(\"> \")\n",
    "\n",
    "    if bears== \"1\":\n",
    "        print(\"The bear grabbed your face.That's great!\")\n",
    "    \n",
    "    elif bears == \"2\":\n",
    "        print(\"The bear bit your leg.That's great!\")\n",
    "\n",
    "    else:\n",
    "        print(f\"Great, this action {bears} was the only correct one.\")\n",
    "        print(\"The bear run away.\")\n",
    "\n",
    "elif door == \"2\":\n",
    "    print(\"You are looking inti the endless abyss of Cthulhu's eyes.What are you doing!?\")\n",
    "    print(\"1. I'll tell Cthulhu about swamps in Siberia.\")\n",
    "    print(\"2. I'll pat the yellow buttons on my jacket.\")\n",
    "    print(\"3. I'll try to whistle the song 'Black Raven'.\")\n",
    "\n",
    "    insanity = input(\"> \")\n",
    "\n",
    "    if insanity == \"1\" or insanity == \"2\":\n",
    "        print(\"You survived because Cthulhu turned to jelly.\")\n",
    "        print(\"Just great!\")\n",
    "\n",
    "    else:\n",
    "        print(\"Madness seized you and you fell into the pool of rot.\")\n",
    "        print(\"Just great!\")\n",
    "\n",
    "else:\n",
    "    print(\"Madness seized you and you tore your face to pieces.Great job!\")"
   ]
  },
  {
   "cell_type": "markdown",
   "id": "13e248fa-108d-4446-b0f7-723b087557d3",
   "metadata": {},
   "source": [
    "_**<p style=\"font-family: Arial; font-size:1.1em;color:lime;\"> Example 32: Loops and Lists</p>**_"
   ]
  },
  {
   "cell_type": "code",
   "execution_count": 3,
   "id": "2a171418-0742-4137-b219-23ca95f889e2",
   "metadata": {},
   "outputs": [
    {
     "name": "stdout",
     "output_type": "stream",
     "text": [
      "Counter: 1\n",
      "Counter: 2\n",
      "Counter: 3\n",
      "Counter: 4\n",
      "Counter: 5\n",
      "Fruit: apple\n",
      "Fruit: orange\n",
      "Fruit: peach\n",
      "Fruit: apricot\n",
      "I got 1\n",
      "I got chervonets\n",
      "I got 2\n",
      "I got fifty dollars\n",
      "I got 3\n",
      "I got hundred\n",
      "Adding 0 to the list\n",
      "Adding 1 to the list\n",
      "Adding 2 to the list\n",
      "Adding 3 to the list\n",
      "Adding 4 to the list\n",
      "Adding 5 to the list\n",
      "Element number: 0\n",
      "Element number: 1\n",
      "Element number: 2\n",
      "Element number: 3\n",
      "Element number: 4\n",
      "Element number: 5\n"
     ]
    }
   ],
   "source": [
    "#list\n",
    "heirs = ['brown', 'blonde', 'redhead']\n",
    "eyes = ['brown', 'blue', 'green']\n",
    "weights = [1, 2, 3, 4]\n",
    "\n",
    "the_count = [1, 2, 3, 4, 5]\n",
    "fruits = ['apple', 'orange', 'peach', 'apricot']\n",
    "change = [1, 'chervonets', 2, 'fifty dollars', 3, 'hundred']\n",
    "\n",
    "#the for loop of the first type processes the list\n",
    "for number in the_count:\n",
    "    print(f'Counter: {number}')\n",
    "\n",
    "#same is above\n",
    "for fruits in fruits:\n",
    "    print(f'Fruit: {fruits}')\n",
    "\n",
    "#can elso handle nixed lists\n",
    "#note that {} characters are used,as unknown\n",
    "#value type\n",
    "for i in change:\n",
    "    print(f'I got {i}')\n",
    "\n",
    "#also we can create lists, start with empty\n",
    "elements = []\n",
    "\n",
    "#then use the range() function to limit the range\n",
    "for i in range(0, 6):\n",
    "    print(f'Adding {i} to the list')\n",
    "    #append - function for adding elements the list\n",
    "    elements.append(i)\n",
    "\n",
    "#now we display them\n",
    "for i in elements:\n",
    "    print(f'Element number: {i}')    "
   ]
  },
  {
   "cell_type": "markdown",
   "id": "7c8de20c-0e26-4abf-909e-a1e72fcc7a1c",
   "metadata": {},
   "source": [
    "_**<p style=\"font-family: Arial; font-size:1.1em;color:lime;\"> Example 33: Wile Loops </p>**_"
   ]
  },
  {
   "cell_type": "code",
   "execution_count": 2,
   "id": "d33cb6b2-7fdb-4e45-9ac1-b9552eff5eb3",
   "metadata": {},
   "outputs": [
    {
     "name": "stdout",
     "output_type": "stream",
     "text": [
      "At the beginning, the value of i is 0\n",
      "Current values:  [0]\n",
      "At the end the value of i is 1\n",
      "At the beginning, the value of i is 1\n",
      "Current values:  [0, 1]\n",
      "At the end the value of i is 2\n",
      "At the beginning, the value of i is 2\n",
      "Current values:  [0, 1, 2]\n",
      "At the end the value of i is 3\n",
      "At the beginning, the value of i is 3\n",
      "Current values:  [0, 1, 2, 3]\n",
      "At the end the value of i is 4\n",
      "At the beginning, the value of i is 4\n",
      "Current values:  [0, 1, 2, 3, 4]\n",
      "At the end the value of i is 5\n",
      "At the beginning, the value of i is 5\n",
      "Current values:  [0, 1, 2, 3, 4, 5]\n",
      "At the end the value of i is 6\n",
      "Values: \n",
      "0\n",
      "1\n",
      "2\n",
      "3\n",
      "4\n",
      "5\n"
     ]
    }
   ],
   "source": [
    "i = 0\n",
    "numbers = []\n",
    "\n",
    "while i < 6:\n",
    "    print(f'At the beginning, the value of i is {i}')\n",
    "    numbers.append(i)\n",
    "\n",
    "    i = i + 1\n",
    "    print('Current values: ', numbers)\n",
    "    print(f'At the end the value of i is {i}')\n",
    "\n",
    "print('Values: ')\n",
    "\n",
    "for num in numbers:\n",
    "    print(num)"
   ]
  },
  {
   "cell_type": "markdown",
   "id": "475e24be-6312-4feb-8aeb-9600a1532f72",
   "metadata": {},
   "source": [
    "_**<p style=\"font-family: Arial; font-size:1.1em;color:lime;\"> Example 34: Accessing List Items </p>**_"
   ]
  },
  {
   "cell_type": "code",
   "execution_count": 4,
   "id": "2427c072-2de3-4b19-b6e6-17bd55531ee7",
   "metadata": {},
   "outputs": [
    {
     "name": "stdout",
     "output_type": "stream",
     "text": [
      "Amimal with index 1: bear\n"
     ]
    }
   ],
   "source": [
    "animals = ['bear', 'python', 'penguin', 'kangaroo', 'whale', 'platypus']\n",
    "print(f'Amimal with index 1:', animals[0])"
   ]
  },
  {
   "cell_type": "code",
   "execution_count": 5,
   "id": "4da3d21f-96e5-48b7-bcbc-2fd6e7d19a56",
   "metadata": {},
   "outputs": [
    {
     "name": "stdout",
     "output_type": "stream",
     "text": [
      "Amimal with index 1: python\n",
      "Third animal penguin\n",
      "First animal bear\n",
      "Amimal with index 3: kangaroo\n",
      "Amimal with index 4: whale\n",
      "Fifth animal whale\n",
      "Sixth animal platypus\n"
     ]
    }
   ],
   "source": [
    "animals = ['bear', 'python', 'penguin', 'kangaroo', 'whale', 'platypus']\n",
    "print('Amimal with index 1:', animals[1])\n",
    "print('Third animal', animals[2])\n",
    "print('First animal', animals[0])\n",
    "print(f'Amimal with index 3:', animals[3])\n",
    "print('Amimal with index 4:', animals[4])\n",
    "print('Fifth animal', animals[4])\n",
    "print('Sixth animal', animals[5])"
   ]
  },
  {
   "cell_type": "markdown",
   "id": "291bca66-dbd7-434c-a3a3-60f9b74a06d4",
   "metadata": {},
   "source": [
    "_**<p style=\"font-family: Arial; font-size:1.1em;color:lime;\"> Example 35: Branches and functions </p>**_"
   ]
  },
  {
   "cell_type": "code",
   "execution_count": 1,
   "id": "23423998-02f2-4e2b-a8ae-9a0e9c2b9e6f",
   "metadata": {},
   "outputs": [
    {
     "name": "stdout",
     "output_type": "stream",
     "text": [
      "You are in dark room.\n",
      "There are two doors leading from here, left and right.\n",
      "Where will you turn!?\n"
     ]
    },
    {
     "name": "stdin",
     "output_type": "stream",
     "text": [
      ">  left\n"
     ]
    },
    {
     "name": "stdout",
     "output_type": "stream",
     "text": [
      "Bear sleeps here\n",
      "The bear has a barrel of honey.\n",
      "The bear closed the exit door.\n",
      "How to move the bear?Take away honey or tease a bear?\n"
     ]
    },
    {
     "name": "stdin",
     "output_type": "stream",
     "text": [
      ">  Take away the honey\"\n"
     ]
    },
    {
     "name": "stdout",
     "output_type": "stream",
     "text": [
      "Enter one of the suggested actions.\n"
     ]
    },
    {
     "name": "stdin",
     "output_type": "stream",
     "text": [
      ">  Take away the honey\n"
     ]
    },
    {
     "name": "stdout",
     "output_type": "stream",
     "text": [
      "why, Great!\n"
     ]
    },
    {
     "ename": "SystemExit",
     "evalue": "0",
     "output_type": "error",
     "traceback": [
      "An exception has occurred, use %tb to see the full traceback.\n",
      "\u001b[0;31mSystemExit\u001b[0m\u001b[0;31m:\u001b[0m 0\n"
     ]
    },
    {
     "name": "stderr",
     "output_type": "stream",
     "text": [
      "/home/dot/anaconda3/lib/python3.9/site-packages/IPython/core/interactiveshell.py:3465: UserWarning: To exit: use 'exit', 'quit', or Ctrl-D.\n",
      "  warn(\"To exit: use 'exit', 'quit', or Ctrl-D.\", stacklevel=1)\n"
     ]
    }
   ],
   "source": [
    "from sys import exit\n",
    "\n",
    "def gold_room():\n",
    "    print(\"It's full of gold.How many kg will you carry?\")\n",
    "\n",
    "    choice = input(\"> \")\n",
    "    if \"0\" in choice or \"1\" in choice:\n",
    "        how_much  = int(choice)\n",
    "    else:\n",
    "        dead(\"Fi, you need to enter a number.\")\n",
    "\n",
    "    if how_much < 50:\n",
    "        print(\"Gorgeus! You are not greedy, so yoy win!\")\n",
    "        exit(0)\n",
    "    else:\n",
    "        dead(\"Oh you greedy!\")\n",
    "\n",
    "def bear_room():\n",
    "    print(\"Bear sleeps here\")\n",
    "    print(\"The bear has a barrel of honey.\")\n",
    "    print(\"The bear closed the exit door.\")\n",
    "    print(\"How to move the bear?Take away honey or tease a bear?\")\n",
    "    bear_moved = False\n",
    "\n",
    "    while True:\n",
    "        choice = input(\"> \")\n",
    "\n",
    "        if choice == \"Take away the honey\":\n",
    "            dead(\"The bear looked at you and hit you in the face with its paw.\")\n",
    "        elif choice == \"Tease the bear\" and not bear_moved:\n",
    "            print(\"The bear moved away from the door.\")\n",
    "            print(\"You can enter it.Tease a bear or enter the door?\")\n",
    "            bear_moved = True\n",
    "        elif choice == \"Tease a bear\" and bear_moved:\n",
    "            print(\"The bear got angry and bit off your leg.\")\n",
    "        elif choice == \"Enter the door\" and bear_moved:\n",
    "            gold_room()\n",
    "        else:\n",
    "            print(\"Enter one of the suggested actions.\")\n",
    "\n",
    "def cthulhu_room():\n",
    "    print(\"The great and terrible Cthulhu is watching you.\")\n",
    "    print(\"He looks at you and you start going crazy.\")\n",
    "    print(\"Run or fight!?\")\n",
    "\n",
    "    choice = input(\"> \")\n",
    "\n",
    "    if \"run\" in choice:\n",
    "        start()\n",
    "\n",
    "    elif \"start fighting\" in choice:\n",
    "        dead(\"Hm, maybe even win!\")\n",
    "    \n",
    "    else:\n",
    "        cthulhu_room()\n",
    "\n",
    "def dead(why):\n",
    "    print(\"why, Great!\")\n",
    "    exit(0)\n",
    "\n",
    "def start():    \n",
    "    print(\"You are in dark room.\")\n",
    "    print(\"There are two doors leading from here, left and right.\")\n",
    "    print(\"Where will you turn!?\")\n",
    "\n",
    "    choice = input(\"> \")\n",
    "\n",
    "    if choice == \"left\":\n",
    "        bear_room()\n",
    "    elif choice == \"right\":\n",
    "        cthulhu_room()\n",
    "    else:\n",
    "        dead(\"You go from room to room until you are hungry.\")\n",
    "\n",
    "start()"
   ]
  },
  {
   "cell_type": "markdown",
   "id": "8e87c1ae-982a-41b0-9bc7-82f4c488255b",
   "metadata": {},
   "source": [
    "_**<p style=\"font-family: Arial; font-size:1.1em;color:lime;\"> Example 37: Introduction to symbols</p>**_"
   ]
  },
  {
   "cell_type": "markdown",
   "id": "b95a2dd5-f421-4b31-9a17-4f5caa487660",
   "metadata": {},
   "source": [
    "_**<p style=\"font-family: Arial; font-size:1.1em;color:lime;\"> Example 38: Working with lists</p>**_"
   ]
  },
  {
   "cell_type": "code",
   "execution_count": 1,
   "id": "5eb0abbb-e6fc-4a67-8278-23ac8dab1828",
   "metadata": {},
   "outputs": [
    {
     "name": "stdout",
     "output_type": "stream",
     "text": [
      "Wait, there are less then 10 objects.Let's fix this.\n",
      "We add:  Boy\n",
      "Now we have 7 objects.\n",
      "We add:  Girl\n",
      "Now we have 8 objects.\n",
      "We add:  Banana\n",
      "Now we have 9 objects.\n",
      "We add:  Corn\n",
      "Now we have 10 objects.\n",
      "So:  ['Apples', 'Oranges', 'Crows', 'Phones', 'Light', 'Sugar', 'Boy', 'Girl', 'Banana', 'Corn']\n",
      "Let's do something with our objects.\n",
      "Oranges\n",
      "Corn\n",
      "Corn\n",
      "Apples Oranges Crows Phones Light Sugar Boy Girl Banana\n",
      "Phones#Light\n"
     ]
    }
   ],
   "source": [
    "ten_things = 'Apples Oranges Crows Phones Light Sugar'\n",
    "\n",
    "print(\"Wait, there are less then 10 objects.Let's fix this.\")\n",
    "\n",
    "stuff = ten_things.split(' ')\n",
    "more_stuff = ['Day', 'Night', 'Song', 'Bear', 'Corn', 'Banana', 'Girl', 'Boy']\n",
    "\n",
    "while len(stuff) != 10:\n",
    "    next_one = more_stuff.pop()\n",
    "    print('We add: ', next_one)\n",
    "    stuff.append(next_one)\n",
    "    print(f\"Now we have {len(stuff)} objects.\")\n",
    "\n",
    "print(\"So: \", stuff)\n",
    "    \n",
    "print(\"Let's do something with our objects.\")\n",
    "\n",
    "print(stuff[1])\n",
    "print(stuff[-1])\n",
    "print(stuff.pop())\n",
    "print(' '.join(stuff))\n",
    "print('#'.join(stuff[3:5]))"
   ]
  },
  {
   "cell_type": "markdown",
   "id": "9bf492ba-6c1b-4da8-9143-0765355c0598",
   "metadata": {},
   "source": [
    "_**<p style=\"font-family: Arial; font-size:1.1em;color:lime;\"> Example 39: Dictionaries</p>**_"
   ]
  },
  {
   "cell_type": "code",
   "execution_count": 7,
   "id": "50db4a33-9620-4b17-88d6-c0ab8ca3da4f",
   "metadata": {},
   "outputs": [
    {
     "name": "stdout",
     "output_type": "stream",
     "text": [
      "----------\n",
      "In the country ZW there is a city:  Gveru\n",
      "In the country RU there is a city  Moscow\n",
      "----------\n",
      "Abbreviation Turkey:  TR\n",
      "Abbreviation Germany: DE\n",
      "----------\n",
      "There is a city in Turkey:  Sarygerme\n",
      "There is a city in Germany:  Munich\n",
      "----------\n",
      "Russia has an Abbreviation RU\n",
      "Germany has an Abbreviation DE\n",
      "Uzbekistan has an Abbreviation UZ\n",
      "Zimbabwe has an Abbreviation ZW\n",
      "Turkey has an Abbreviation TR\n",
      "----------\n",
      "In the country UZ there is a city Gazli\n",
      "In the country TR there is a city Sarygerme\n",
      "In the country DE there is a city Munich\n",
      "In the country ZW there is a city Gveru\n",
      "In the country RU there is a city Moscow\n",
      "----------\n",
      "In the country Russia abbreviation used RU\n",
      "And there is a city Moscow\n",
      "In the country Germany abbreviation used DE\n",
      "And there is a city Munich\n",
      "In the country Uzbekistan abbreviation used UZ\n",
      "And there is a city Gazli\n",
      "In the country Zimbabwe abbreviation used ZW\n",
      "And there is a city Gveru\n",
      "In the country Turkey abbreviation used TR\n",
      "And there is a city Sarygerme\n",
      "----------\n",
      "I'm sorry, the USA does not exist or has been destroyed.\n",
      "In the country 'US' there is a city: does not exist\n"
     ]
    }
   ],
   "source": [
    "#Link diafram of abbreviations with country names\n",
    "states = {\n",
    "    'Russia':'RU',\n",
    "    'Germany':'DE',\n",
    "    'Uzbekistan':'UZ',\n",
    "    'Zimbabwe':'ZW',\n",
    "    'Turkey':'TR'\n",
    "}\n",
    "\n",
    "#Creation of a basic of countries and some cities in them\n",
    "cities = {\n",
    "    'UZ':'Gazli',\n",
    "    'TR':'Sarygerme',\n",
    "    'DE':'Munich'\n",
    "}\n",
    "\n",
    "#adding multiple cities\n",
    "cities['ZW'] = 'Gveru'\n",
    "cities['RU'] = 'Moscow'\n",
    "\n",
    "#withdrawal of some cities\n",
    "print('-' * 10)\n",
    "\n",
    "print('In the country ZW there is a city: ', cities['ZW'])\n",
    "print('In the country RU there is a city ', cities['RU'])\n",
    "\n",
    "#Withdrawal of some countries\n",
    "print('-' * 10)\n",
    "\n",
    "print('Abbreviation Turkey: ', states['Turkey'])\n",
    "print('Abbreviation Germany:', states['Germany'])\n",
    "\n",
    "#Performed taking into account the country and the dictionary of cities\n",
    "print('-' * 10)\n",
    "\n",
    "print('There is a city in Turkey: ', cities[states['Turkey']])\n",
    "print('There is a city in Germany: ', cities[states['Germany']])\n",
    "\n",
    "#Display of abbreviations of all countries\n",
    "print('-' * 10)\n",
    "\n",
    "for state, abbrev in list(states.items()):\n",
    "    print(f\"{state} has an Abbreviation {abbrev}\")\n",
    "\n",
    "#Output of all cities in countries\n",
    "print('-' * 10)\n",
    "\n",
    "for abbrev, city in list(cities.items()):\n",
    "    print(f\"In the country {abbrev} there is a city {city}\")\n",
    "\n",
    "\n",
    "#And now both data types at once\n",
    "print('-' * 10)\n",
    "\n",
    "for state, abbrev in list(states.items()):\n",
    "    print(f\"In the country {state} abbreviation used {abbrev}\")\n",
    "    print(f\"And there is a city {cities[abbrev]}\")\n",
    "\n",
    "print('-' * 10)\n",
    "\n",
    "#safely getting the abbreviation of a country that is not represented\n",
    "state = states.get('USA')\n",
    "\n",
    "if not state:\n",
    "    print(\"I'm sorry, the USA does not exist or has been destroyed.\")\n",
    "\n",
    "#Getting city with default value\n",
    "city = cities.get('US', 'does not exist')\n",
    "print(f\"In the country 'US' there is a city: {city}\")"
   ]
  },
  {
   "cell_type": "markdown",
   "id": "f5be2ace-4749-49a8-898f-76e7b770d665",
   "metadata": {},
   "source": [
    "_**<p style=\"font-family: Arial; font-size:1.1em;color:lime;\"> Example 40: Modules, classes and objects</p>**_"
   ]
  },
  {
   "cell_type": "code",
   "execution_count": 3,
   "id": "347c7a1a-cce4-4c7e-ac64-4832089b6cd7",
   "metadata": {},
   "outputs": [
    {
     "name": "stdout",
     "output_type": "stream",
     "text": [
      "Can I have your birthday\n",
      "Expensive gifts to give,\n",
      "But these spring nights\n",
      "Far, far away, who is grazing in the medow?\n",
      "Drink, children, milk, you will be healthy!\n"
     ]
    }
   ],
   "source": [
    "#mystuff = {'apple': \"I'm - APPLE\"}\n",
    "\n",
    "#class MyStuff(object):\n",
    "\n",
    "#    def __init__(self):\n",
    "#        self.tangerine = \"Let run clumsily\"\n",
    "\n",
    "#    def apple(self):\n",
    "#        print(\"I'm - THE SWEETEST APPLE!\")\n",
    "\n",
    "#thing = MyStuff()\n",
    "#thing.apple()\n",
    "#print(thing.tangerine)\n",
    "\n",
    "\n",
    "#Dictionary method\n",
    "#mustuff['apples']\n",
    "\n",
    "#Method with module\n",
    "#mystuff.apples()\n",
    "#print(mystuff.tangerine)\n",
    "\n",
    "#Method with class\n",
    "#thing = MyStuff()\n",
    "#thing.apples()\n",
    "#print(thing.tangerine)\n",
    "\n",
    "class Song(object):\n",
    "\n",
    "    def __init__(self, lyrics):\n",
    "        self.lyrics = lyrics\n",
    "\n",
    "    def sing_me_a_song(self):\n",
    "        for line in self.lyrics:\n",
    "            print(line)\n",
    "\n",
    "happy_bday = Song([\"Can I have your birthday\",\n",
    "                   \"Expensive gifts to give,\",\n",
    "                   \"But these spring nights\"])            \n",
    "\n",
    "bulls_on_parade = Song([\"Far, far away, who is grazing in the medow?\",\n",
    "                        \"Drink, children, milk, you will be healthy!\"])\n",
    "\n",
    "happy_bday.sing_me_a_song()\n",
    "\n",
    "bulls_on_parade.sing_me_a_song()"
   ]
  },
  {
   "cell_type": "markdown",
   "id": "b516d81e-1087-4311-bf71-438290c893ac",
   "metadata": {},
   "source": [
    "_**<p style=\"font-family: Arial; font-size:1.1em;color:lime;\"> Example 41: Let's talk about OOP</p>**_"
   ]
  },
  {
   "cell_type": "code",
   "execution_count": null,
   "id": "1423cb17-4bc0-4b5e-a788-f18aab3d479b",
   "metadata": {},
   "outputs": [
    {
     "name": "stdout",
     "output_type": "stream",
     "text": [
      "class Carpenter(object):\n",
      "\tdef __init__(self, answer)\n"
     ]
    }
   ],
   "source": [
    "import random\n",
    "from urllib.request import urlopen\n",
    "import sys\n",
    "\n",
    "WORD_URL = \"http://learncodethehardway.org/words.txt\"\n",
    "WORDS = []\n",
    "\n",
    "PHRASES = {\n",
    "    \"class %%%(%%%):\":\n",
    "    \"A class is created with the name %%%, wich inherits from %%%.\",\n",
    "    \"class %%%(object):\\n\\tdef __init__(self, ***)\":\n",
    "    \"class %%% combines __init__ with parametrs self and parametrs ***.\",\n",
    "    \"class %%%(object):\\n\\tdef ***(self, @@@)\":\n",
    "    \"class %%% combines a function named *** with parametrs self and @@@,\",\n",
    "    \"***.***(@@@)\":\n",
    "    \"Created *** as an instance of class %%%.\",\n",
    "    \"***.***(@@@)\":\n",
    "    \"Function *** is obtained from ***, and then called with parametrs self, @@@.\",\n",
    "    \"***.*** = '***'\":\n",
    "    \"The atribute *** is obtained from *** and then set to '***'.\"\n",
    "}\n",
    "\n",
    "#Phrase memorization training\n",
    "if len(sys.argv) == 2 and sys.argv[1] == \"russian\":\n",
    "    PHRASE_FIRST = True\n",
    "else:\n",
    "    PHRASE_FIRST = False\n",
    "\n",
    "#Loading words from the server\n",
    "for word in urlopen(WORD_URL).readlines():\n",
    "    WORDS.append(str(word.strip(), encoding=\"utf-8\"))\n",
    "\n",
    "def convert(snippet, phrase):\n",
    "    class_names = [w.capitalize() for w in\n",
    "                   random.sample(WORDS, snippet.count(\"%%%\"))]\n",
    "    other_names = random.sample(WORDS, snippet.count(\"***\"))\n",
    "    results = []\n",
    "    param_names = []\n",
    "\n",
    "    for i in range(0, snippet.count(\"@@@\")):\n",
    "        param_count = random.randint(1,3)\n",
    "        param_names.append(', '.join(\n",
    "        random.sample(WORDS, param_count)))\n",
    "\n",
    "    for sentence in snippet, phrase:\n",
    "        result = sentence[:]\n",
    "\n",
    "        #fictious class name\n",
    "        for word in class_names:\n",
    "            result = result.replace(\"%%%\", word, 1)\n",
    "\n",
    "        #fictious other name\n",
    "        for word in other_names:\n",
    "            result = result.replace(\"***\", word, 1)\n",
    "    \n",
    "        #list of fictious parametrs\n",
    "        for word in param_names:\n",
    "            result = result.replace(\"@@@\", word, 1)\n",
    "\n",
    "        results.append(result)\n",
    "\n",
    "    return results\n",
    "\n",
    "#Execute until CTRL+Z is pressed\n",
    "try:\n",
    "    while True:\n",
    "        snippets = list(PHRASES.keys())\n",
    "        random.shuffle(snippets)\n",
    "\n",
    "        for snippet in snippets:\n",
    "            phrase = PHRASES[snippet]\n",
    "            question, answer = convert(snippet, phrase)\n",
    "            if PHRASE_FIRST:\n",
    "                question, answer = answer, question\n",
    "\n",
    "            print(question)\n",
    "\n",
    "            input(\"> \")\n",
    "            print(f\"ANSWER: {answer}\\n\\n\")\n",
    "\n",
    "except EOFError:\n",
    "    print(\"\\nBye\")"
   ]
  },
  {
   "cell_type": "markdown",
   "id": "1ef4c910-a7a1-4dd9-8243-7b013cecb803",
   "metadata": {},
   "source": [
    "_**<p style=\"font-family: Arial; font-size:1.1em;color:lime;\"> Example 42: Composition, inheritance, objects and classes</p>**_"
   ]
  },
  {
   "cell_type": "markdown",
   "id": "c5b2c9f0-7fc5-431d-b154-da0c1496a20e",
   "metadata": {},
   "source": [
    "_**<p style=\"font-family: Arial; font-size:1.1em;color:lime;\"> Example 43: Fundamentals of object oriented analysis\n",
    "and design</p>**_"
   ]
  },
  {
   "cell_type": "code",
   "execution_count": null,
   "id": "8dc99f8f-d812-4885-bf1f-1723161e1125",
   "metadata": {},
   "outputs": [
    {
     "name": "stdout",
     "output_type": "stream",
     "text": [
      "\n",
      "Gothons from the planet Percale 25 have captured your\n",
      "ship and wiped out the entire team.You are the only one\n",
      "left aliveself.You need to steal the neutron bomb from\n",
      "the armory lab, lay here in the fuel bay and leav ship\n",
      "in an escape pod before it explodes.You run down the\n",
      "central corridor tothe weapons lab, when a gothon with\n",
      "red scaly appears in front of you with scin, rotten\n",
      "teeth and a clown suit.He hates looks at you and,\n",
      "blocking the way to the laboratory, pulls out a blaster\n",
      "to send you to the forefathers.         \n",
      "\n"
     ]
    }
   ],
   "source": [
    "from sys import exit\n",
    "from random import randint\n",
    "from textwrap import dedent\n",
    "\n",
    "class Scene(object):\n",
    "    \n",
    "    def enter(self):\n",
    "        print(\"This scene has not yet been set up.\")\n",
    "        print(\"Subclass and implement the enter() function.\")\n",
    "        exit(1)\n",
    "\n",
    "class Engine(object):\n",
    "\n",
    "    def __init__(self, scene_map):\n",
    "        self.scene_map = scene_map\n",
    "\n",
    "    def play(self):\n",
    "        current_scene = self.scene_map.opening_scene()\n",
    "        last_scene = self.scene_map.next_scene('finished')\n",
    "\n",
    "        while current_scene != last_scene:\n",
    "            next_scene_name = current_scene.enter()\n",
    "            current_scene = self.scene_map.next_scene('next_scene_name')\n",
    "\n",
    "        current_scene.enter()\n",
    "\n",
    "class Death(Scene):\n",
    "\n",
    "    quips = [\n",
    "             \"You died.How sad it is.\",\n",
    "             \"Your mother will be sad for you...you should have been smarter.\",\n",
    "             \"You should have been such a jerk.\",\n",
    "             \"Even my little puppy thinks better.\",\n",
    "             \"When will you grow up, as your folder said.\"\n",
    "    ]\n",
    "\n",
    "    def enter(self):\n",
    "        \n",
    "        print(Death.quips[randint(0, len(self.quips)-1)])\n",
    "\n",
    "class CentralCorridor(Scene):\n",
    "\n",
    "    def enter(self):\n",
    "\n",
    "        print(dedent(\"\"\"\n",
    "            Gothons from the planet Percale 25 have captured your\n",
    "            ship and wiped out the entire team.You are the only one\n",
    "            left aliveself.You need to steal the neutron bomb from\n",
    "            the armory lab, lay here in the fuel bay and leav ship\n",
    "            in an escape pod before it explodes.You run down the\n",
    "            central corridor tothe weapons lab, when a gothon with\n",
    "            red scaly appears in front of you with scin, rotten\n",
    "            teeth and a clown suit.He hates looks at you and,\n",
    "            blocking the way to the laboratory, pulls out a blaster\n",
    "            to send you to the forefathers.         \n",
    "        \"\"\"))\n",
    "        \n",
    "        action = input(\"> \")\n",
    "\n",
    "        if action == \"shoot!\":\n",
    "            print(dedent(\"\"\"\n",
    "                You quickly draw your blaster and start firing at\n",
    "                get ready. His clown outfit spins on his body, interfering\n",
    "                hit the target. All your shots have failed\n",
    "                failed, and the blaster's charge ran out. Gothon costume that\n",
    "                bought by his mother, hopelessly spoiled, so\n",
    "                the alien in a rage draws a blaster and shoots\n",
    "                in your head. In a panic, you try to escape and abruptly\n",
    "                turning, you hit your head on the beam and lose\n",
    "                consciousness. You died a heroic death.\n",
    "            \"\"\"))\n",
    "            return 'death'\n",
    "\n",
    "\n",
    "\n",
    "        elif action == \"skip!\":\n",
    "            print(dedent(\"\"\"\n",
    "                Like a world class boxer you dodge and you slip past the\n",
    "                Goton, out of the corner of your eye noticing that\n",
    "                his blaster is pointed at your head. And here you\n",
    "                slip and crash into the wall. From the blow you\n",
    "                you lose consciousness. When you regain consciousness,\n",
    "                you have time feel that the gothon is trampling on your head\n",
    "                and devours you. The light fades before my eyes.\n",
    "            \"\"\"))\n",
    "            return 'death'\n",
    "\n",
    "        elif action == \"joke\":\n",
    "            print(dedent(\"\"\"\n",
    "                Fortunately, you are familiar with the Goton culture and\n",
    "                know that might make them laugh. You say bearded\n",
    "                Neocolonies isomorphically relative to multiband hyperbolic \n",
    "                paraboloids, theoretically catarrhal. Gothon freezes,\n",
    "                tries hold back laughter, and then begins to laugh \n",
    "                uncontrollably.While he's laughing, you take out your\n",
    "                blaster and shoot I go to the head. He falls and you\n",
    "                jump over him and run to the weapons laboratory.\n",
    "            \"\"\"))\n",
    "            return 'laser_weapon_armory'\n",
    "\n",
    "        else:\n",
    "            print(\"DO NOT DO THIS!\")\n",
    "        return 'central_corridor'\n",
    "\n",
    "class LaserWeaponArmory(Scene):\n",
    "\n",
    "    def enter(self):\n",
    "        print(dedent(\"\"\"\n",
    "            You run into the weapons lab and start search the room\n",
    "            to see if there are other Gotons hiding there.\n",
    "            There is dead silence. You run to the far corner of the\n",
    "            room and you find a neutron bomb in a protective container.\n",
    "            On the front side of the container there is a panel with\n",
    "            buttons and you need to enter the correct code to get the\n",
    "            bomb. If you enter the wrong code 10 times,the container\n",
    "            will be blocked and you won't be able to get the bomb.\n",
    "            Please note that the code consists of 3 digits.\n",
    "        \"\"\"))\n",
    "\n",
    "        code = f\"{randint(1,9)}{randint(1,9)}{randint(1,9)}\"\n",
    "        guess = input(\"[keypad]> \")\n",
    "        guesses = 0\n",
    "\n",
    "        while guess != code and guesses < 10:\n",
    "            print('WHACKKKK')\n",
    "            guesses += 1\n",
    "            guess = input('[keypad]> ')\n",
    "\n",
    "        if guess == code:\n",
    "            print(dedent(\"\"\"\n",
    "                The container opens with a click and releases blue gas.\n",
    "                You pull out a neutron bomb and run into fuel \n",
    "                compartment to plant the bomb in the right place,\n",
    "                activate it and have time to get off the ship.\n",
    "            \"\"\"))\n",
    "            return 'the_bridge'\n",
    "\n",
    "        else:\n",
    "            print(dedent(\"\"\"\n",
    "                You hear the castle hum one last time and then\n",
    "                you smell the burning - the castle has melted.\n",
    "                You're staying in the gun shop until the gothons\n",
    "                finally explode ship shot from your ship and you\n",
    "                don't die.\n",
    "            \"\"\"))\n",
    "            return 'death'\n",
    "\n",
    "class TheBridge(Scene):\n",
    "\n",
    "    def enter(self):\n",
    "        print(dedent(\"\"\"\n",
    "            You run into the fuel bay with the neutron bomb and\n",
    "            you see five Gotons, unsuccessfully trying to control\n",
    "            ship. One is uglier than the other, and everyone is\n",
    "            in clown clothes suits, like the Gothon you killed.\n",
    "            They don't get weapons, because they see a bomb in\n",
    "            your hands and do not want to, so that you blow it up.\n",
    "            The advantage is clearly on your side.\n",
    "        \"\"\"))\n",
    "\n",
    "        action = input(\"> \")\n",
    "\n",
    "        if action == \"throw_bomb\":\n",
    "            print(dedent(\"\"\"\n",
    "                You activate the bomb in a panic and throw it into the crowd\n",
    "                gotons, and then you jump to the airlock door. Straightaway\n",
    "                after that, one of the gotons shoots you in the back.\n",
    "                Dying, you see how other Gotons try in vain\n",
    "                deactivate the bomb. You realize that the gothons too\n",
    "                will perish. The light fades before my eyes.\n",
    "            \"\"\"))\n",
    "            return 'death'\n",
    "\n",
    "        elif action == \"plant_bomb\":\n",
    "            print(dedent(\"\"\"\n",
    "                You point your blaster at the bomb in your hands.\n",
    "                The Gotons raise their paws up and sweat in fear.\n",
    "                You carefully, without turning away, approach the door and\n",
    "                planting the bomb carefully, keeping the gotons on\n",
    "                fly. You jump in the airlock and close the door\n",
    "                with a blow on the button, and then with a blaster you melt\n",
    "                a lock so that the Gotons cannot open it. Now\n",
    "                you need to get into the escape pod and get away with\n",
    "                ship to hell.\n",
    "            \"\"\"))         \n",
    "            return 'escape_pod'\n",
    "\n",
    "        else:\n",
    "            print(\"IT IS NOT TO DO IT\")\n",
    "            return 'the_bridge'\n",
    "\n",
    "class EscapePod(Scene):\n",
    "\n",
    "    def enter(self):\n",
    "        print(dedent(\"\"\"\n",
    "            You're rushing through the compartment with escape pods.\n",
    "            Some of them can be damaged and explode during\n",
    "            flight. There are five capsules in total, and you don't have time to\n",
    "            inspect each for damage.\n",
    "            Thinking for a second, you decide to sit in a capsule under number...\n",
    "            Which capsule number do you choose?\n",
    "        \"\"\"))\n",
    "\n",
    "        good_pod = randint(1,5)\n",
    "        guess = input(\"[pod #]> \")\n",
    "\n",
    "        if int(guess) != good_pod:\n",
    "            print(dedent(\"\"\"\n",
    "                You jump into capsule number {guess} and press the button\n",
    "                undocking. The capsule flies into space space, and then\n",
    "                explodes with a bright flash, scattering pieces. You are dying.\n",
    "            \"\"\"))\n",
    "            return 'death'\n",
    "        \n",
    "        else:\n",
    "            print(dedent(\"\"\"\n",
    "                You jump into capsule number {guess} and press undock button.\n",
    "                The capsule flies into space space and then sent to the planet\n",
    "                nearby. You look out the window and see how your ship explodes.\n",
    "                Its shards damage the fuel bay of the Gothon ship, and that one\n",
    "                too shatters into pieces. Victory is yours!\n",
    "            \"\"\"))\n",
    "            return 'finished'\n",
    "\n",
    "\n",
    "class Finished(Scene):\n",
    "    \n",
    "    def enter(self):\n",
    "\n",
    "        print(\"You wins! Great job.\")\n",
    "        return 'finished'\n",
    "\n",
    "\n",
    "class Map(object):\n",
    "\n",
    "    scenes = {\n",
    "        'central_corridor': CentralCorridor(),\n",
    "        'laser_weapon_armory': LaserWeaponArmory(),\n",
    "        'the_bridge': TheBridge(),\n",
    "        'escape_pod': EscapePod(),\n",
    "        'death': Death(),\n",
    "        'finished' : Finished(),\n",
    "    }\n",
    "    \n",
    "    def __init__ (self, start_scene):\n",
    "        self.start_scene = start_scene\n",
    "\n",
    "    def next_scene(self, scene_name):\n",
    "        val = Map.scenes.get(scene_name)\n",
    "        return val\n",
    "\n",
    "    def opening_scene(self):\n",
    "        return self.next_scene(self.start_scene)\n",
    "\n",
    "\n",
    "a_map = Map('central_corridor')\n",
    "a_game = Engine(a_map)\n",
    "a_game.play()"
   ]
  },
  {
   "cell_type": "markdown",
   "id": "d27bc31a-d857-4989-a7e1-bb7e88a45471",
   "metadata": {},
   "source": [
    "_**<p style=\"font-family: Arial; font-size:1.1em;color:lime;\"> Example 44: Inheritance and Composition</p>**_"
   ]
  },
  {
   "cell_type": "code",
   "execution_count": null,
   "id": "406a9ed3-b892-446d-8729-59b0d1ff1f00",
   "metadata": {},
   "outputs": [],
   "source": [
    "class Parent(object):\n",
    "\tdef implicit(self):\n",
    "\t\tprint(\"PARENT implicit()\")\n",
    "\n",
    "\tdef override(self):\n",
    "\t\tprint(\"PARENT override()\")\n",
    "\n",
    "\tdef altered(self):\n",
    "\t\tprint(\"PARENT altered()\")\n",
    "\n",
    "class Child(Parent):\n",
    "\tdef __init__(self, stuff):\n",
    "\t\tself.stuff = stuff\n",
    "\t\tsuper(Child, self).__init__()\n",
    "\n",
    "\tdef override(self):\n",
    "\t\tprint(\"CHILD override()\")\n",
    "\n",
    "\tdef altered(self):\n",
    "\t\tprint(\"CHILD, before PARENT altered()\")\n",
    "\t\tsuper(Child, self).altered()\n",
    "\t\tprint(\"CHILD, after PARENT altered()\")\n",
    "\n",
    "class Other(object):\n",
    "\tdef override(self):\n",
    "\t\tprint(\"OTHER override()\")\n",
    "\n",
    "\tdef implicit(self):\n",
    "\t\tprint(\"OTHER implicit()\")\n",
    "\n",
    "\tdef altered(self):\n",
    "\t\tprint(\"OTHER altered()\")\n",
    "\n",
    "class OtherChild(object):\n",
    "\tdef __init__(self):\n",
    "\t\tself.other = Other()\n",
    "\n",
    "\tdef implicit(self):\n",
    "\t\tself.other.implicit()\n",
    "\n",
    "\tdef override(self):\n",
    "\t\tprint(\"OTHER CHILD override()\")\n",
    "\n",
    "\tdef altered(self):\n",
    "\t\tprint(\"OTHER CHILD, before OTHER altered()\")\n",
    "\t\tself.other.altered()\n",
    "\t\tprint(\"OTHER CHILD, after OTHER altered()\")\n",
    "\n",
    "print(\"*** Inheritance: ***\")\n",
    "dad = Parent()\n",
    "son = Child(\"some stuff to not break on init\")\n",
    "otherson = OtherChild()\n",
    "\n",
    "dad.implicit()\n",
    "son.implicit()\n",
    "\n",
    "dad.override()\n",
    "son.override()\n",
    "\n",
    "dad.altered()\n",
    "son.altered()\n",
    "print(\"\\n*** Composition: ***\")\n",
    "otherson.implicit()\n",
    "otherson.override()\n",
    "otherson.altered()"
   ]
  },
  {
   "cell_type": "markdown",
   "id": "2cb91d45-d26f-41d5-9349-ac4ea6557400",
   "metadata": {},
   "source": [
    "_**<p style=\"font-family: Arial; font-size:1.1em;color:lime;\"> Example 47: Automated testing</p>**_"
   ]
  },
  {
   "cell_type": "code",
   "execution_count": 2,
   "id": "e2b83370-5c3b-43fd-b8ed-2d6ff92d2f49",
   "metadata": {},
   "outputs": [],
   "source": [
    "class Room(object):\n",
    "\n",
    "    def __init__(self, name, description):\n",
    "        self.name = name\n",
    "        self.description = description\n",
    "        self.paths = {}\n",
    "\n",
    "    def go(self, direction):\n",
    "        return self.paths.get(direction, None)\n",
    "\n",
    "    def add_paths(self, paths):\n",
    "        self.paths.update (paths)"
   ]
  },
  {
   "cell_type": "markdown",
   "id": "1bd2aebb-196b-43c1-b9db-ef1918e93660",
   "metadata": {},
   "source": [
    "_**<p style=\"font-family: Arial; font-size:1.1em;color:lime;\"> Example 48: Extended user input</p>**_"
   ]
  },
  {
   "cell_type": "code",
   "execution_count": 1,
   "id": "6dd3464f-aa76-4596-8e7b-902a7b4f9c14",
   "metadata": {},
   "outputs": [],
   "source": [
    "def scan(words_to_scan):\n",
    "    \"\"\"\n",
    "    Scan words in lists, returns a tuple (word:word category) if found\n",
    "    rtype: list of tuple\n",
    "    \"\"\"\n",
    "    words = words_to_scan.split()\n",
    "    word_pairs = []\n",
    "\n",
    "    # Words in the dictionary has to be lowercase, as the check depends on that.\n",
    "    dictionary = {'north': 'direction', 'south': 'direction', 'east': 'direction', 'west': 'direction',\n",
    "                  'go': 'verb', 'stop': 'verb', 'kill': 'verb', 'eat': 'verb',\n",
    "                  'the': 'stop', 'in': 'stop', 'of': 'stop', 'from': 'stop', 'at': 'stop', 'it': 'stop',\n",
    "                  'door': 'noun', 'bear': 'noun', 'princess': 'noun', 'cabinet': 'noun'}\n",
    "\n",
    "    for word in words:\n",
    "        if word.isdigit():\n",
    "            word_pairs.append(('number', word))\n",
    "\n",
    "        else:\n",
    "            word_pairs.append((dictionary.get(word.lower(), 'error'), word))\n",
    "\n",
    "    return word_pairs"
   ]
  },
  {
   "cell_type": "markdown",
   "id": "98e2fef9-2f24-4484-95eb-bf0bbe758101",
   "metadata": {},
   "source": [
    "_**<p style=\"font-family: Arial; font-size:1.1em;color:lime;\"> Example 49: Formation of proposals</p>**_"
   ]
  }
 ],
 "metadata": {
  "kernelspec": {
   "display_name": "Python 3 (ipykernel)",
   "language": "python",
   "name": "python3"
  },
  "language_info": {
   "codemirror_mode": {
    "name": "ipython",
    "version": 3
   },
   "file_extension": ".py",
   "mimetype": "text/x-python",
   "name": "python",
   "nbconvert_exporter": "python",
   "pygments_lexer": "ipython3",
   "version": "3.9.13"
  }
 },
 "nbformat": 4,
 "nbformat_minor": 5
}
